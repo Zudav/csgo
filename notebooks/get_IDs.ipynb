{
 "cells": [
  {
   "cell_type": "code",
   "execution_count": 1,
   "metadata": {},
   "outputs": [],
   "source": [
    "from bs4 import BeautifulSoup\n",
    "import requests\n",
    "import pandas as pd\n",
    "from datetime import datetime, timedelta"
   ]
  },
  {
   "cell_type": "code",
   "execution_count": 2,
   "metadata": {},
   "outputs": [],
   "source": [
    "# All teams that played at least minMapCount maps between start_date and end_date\n",
    "minMapCount = 10\n",
    "end_date = datetime.now().date()\n",
    "start_date = (datetime.now() - timedelta(days=365)).date()\n",
    "params = [start_date, end_date, minMapCount]\n",
    "\n",
    "teams_url = \"https://www.hltv.org/stats/teams?startDate={}&endDate={}&minMapCount={}\".format(*params)\n",
    "source = requests.get(teams_url).text\n",
    "soup = BeautifulSoup(source, \"lxml\")\n",
    "\n",
    "# Get table that contains all teams\n",
    "table = soup.find(\"table\", class_=\"player-ratings-table\")\n",
    "# Create empty list that will be filled with dicts\n",
    "team_list = []\n",
    "for team in table.findAll(\"a\", href=True): # loop over all teams\n",
    "    team_name = team.text\n",
    "    # Get href object and split into parts\n",
    "    team_id = team[\"href\"].split(\"/\")\n",
    "    team_dict = {\n",
    "        \"Name\": team_name.lower(),\n",
    "        \"ID\": team_id[-2] # second item from the back contains ID\n",
    "    }\n",
    "    team_list.append(team_dict)\n",
    "\n",
    "# Turn list of dicts into DataFrame\n",
    "df = pd.DataFrame(team_list)\n",
    "\n",
    "# Save as csv file\n",
    "df.to_csv(r\"../data/team_IDs.csv\", index=False)"
   ]
  }
 ],
 "metadata": {
  "kernelspec": {
   "display_name": "webscraping",
   "language": "python",
   "name": "webscraping"
  },
  "language_info": {
   "codemirror_mode": {
    "name": "ipython",
    "version": 3
   },
   "file_extension": ".py",
   "mimetype": "text/x-python",
   "name": "python",
   "nbconvert_exporter": "python",
   "pygments_lexer": "ipython3",
   "version": "3.8.3"
  }
 },
 "nbformat": 4,
 "nbformat_minor": 4
}
