{
 "cells": [
  {
   "cell_type": "code",
   "execution_count": 237,
   "metadata": {},
   "outputs": [],
   "source": [
    "from bs4 import BeautifulSoup\n",
    "import requests\n",
    "import pandas as pd\n",
    "import numpy as np\n",
    "from datetime import datetime, timedelta\n",
    "from pathlib import Path\n",
    "import sys\n",
    "import time\n",
    "import random"
   ]
  },
  {
   "cell_type": "code",
   "execution_count": 354,
   "metadata": {},
   "outputs": [],
   "source": [
    "# Function definitions\n",
    "def get_team_id(team):\n",
    "    # Use entered team name to get ID\n",
    "    team_id = df_team_ids.loc[team.lower(), \"ID\"]\n",
    "    return team_id\n",
    "\n",
    "def get_proper_name(team):\n",
    "    \"\"\"Returns the proper team name. Only relevant for the names entered by the user.\"\"\"\n",
    "    team_id = get_team_id(team)\n",
    "    url = \"https://www.hltv.org/team/{}/{}\".format(team_id, team)\n",
    "    source = requests.get(url).text\n",
    "    soup = BeautifulSoup(source, \"lxml\")\n",
    "    proper_name = soup.find(\"div\", class_=\"profile-team-name\").text\n",
    "    \n",
    "    return proper_name\n",
    "\n",
    "def points_on_disc(layer):\n",
    "    num_pts = len(layer)\n",
    "    indices = np.arange(0, num_pts, dtype=float)+0.5\n",
    "    \n",
    "    r = np.sqrt(indices)\n",
    "    theta = np.pi * (1 + 5**0.5) * indices\n",
    "    theta = np.pi * (1 + 5**0.5) * indices\n",
    "    \n",
    "    return r*np.cos(theta), r*np.sin(theta)\n",
    "\n"
   ]
  },
  {
   "cell_type": "code",
   "execution_count": 3,
   "metadata": {},
   "outputs": [
    {
     "name": "stdout",
     "output_type": "stream",
     "text": [
      "Loaded ID file from C:\\Users\\noser\\Documents\\Python\\CSGO_webscraping\\data\\team_IDs.csv\n"
     ]
    }
   ],
   "source": [
    "# Loading ID file\n",
    "# Relative file path for ID file\n",
    "file_relative = r\"../data/team_IDs.csv\"\n",
    "\n",
    "try:\n",
    "    # Check if ID file exists\n",
    "    file = Path(file_relative).resolve(strict=True)\n",
    "except FileNotFoundError:\n",
    "    # doesn't exist\n",
    "    print(\"Could not find file {}\".format(Path(file_relative).resolve(strict=False)))\n",
    "    sys.exit(1)\n",
    "else:\n",
    "    # Load list with team names and corresponding IDs\n",
    "    df_team_ids = pd.read_csv(file, index_col=\"Name\")\n",
    "    print(\"Loaded ID file from {}\".format(Path(file_relative).resolve()))"
   ]
  },
  {
   "cell_type": "code",
   "execution_count": 469,
   "metadata": {},
   "outputs": [],
   "source": [
    "entered_names = [\"astralis\"]\n",
    "proper_names = [get_proper_name(team) for team in entered_names]\n",
    "start_date = (datetime.now()- timedelta(days=31)).date()\n",
    "end_date = datetime.now().date()"
   ]
  },
  {
   "cell_type": "code",
   "execution_count": 491,
   "metadata": {
    "scrolled": true
   },
   "outputs": [
    {
     "name": "stdout",
     "output_type": "stream",
     "text": [
      "######## Layer 0 ########\n",
      "Checking matches of Astralis\n",
      "https://www.hltv.org/stats/teams/matches/6665/Astralis?startDate=2020-04-30&endDate=2020-05-31\n",
      "######## Layer 1 ########\n",
      "Checking matches of North\n",
      "https://www.hltv.org/stats/teams/matches/7533/North?startDate=2020-04-30&endDate=2020-05-31\n",
      "Checking matches of FaZe\n",
      "https://www.hltv.org/stats/teams/matches/6667/FaZe?startDate=2020-04-30&endDate=2020-05-31\n",
      "Checking matches of Dignitas\n",
      "https://www.hltv.org/stats/teams/matches/5422/Dignitas?startDate=2020-04-30&endDate=2020-05-31\n",
      "Checking matches of G2\n",
      "https://www.hltv.org/stats/teams/matches/5995/G2?startDate=2020-04-30&endDate=2020-05-31\n",
      "Checking matches of NiP\n",
      "https://www.hltv.org/stats/teams/matches/4411/NiP?startDate=2020-04-30&endDate=2020-05-31\n",
      "Checking matches of Heroic\n",
      "https://www.hltv.org/stats/teams/matches/7175/Heroic?startDate=2020-04-30&endDate=2020-05-31\n",
      "Checking matches of ENCE\n",
      "https://www.hltv.org/stats/teams/matches/4869/ENCE?startDate=2020-04-30&endDate=2020-05-31\n",
      "Checking matches of Heretics\n",
      "https://www.hltv.org/stats/teams/matches/8346/Heretics?startDate=2020-04-30&endDate=2020-05-31\n",
      "######## Layer 2 ########\n",
      "Checking matches of forZe\n",
      "https://www.hltv.org/stats/teams/matches/8135/forZe?startDate=2020-04-30&endDate=2020-05-31\n",
      "Checking matches of Copenhagen Flames\n",
      "https://www.hltv.org/stats/teams/matches/7461/Copenhagen Flames?startDate=2020-04-30&endDate=2020-05-31\n",
      "Checking matches of Spirit\n",
      "https://www.hltv.org/stats/teams/matches/7020/Spirit?startDate=2020-04-30&endDate=2020-05-31\n",
      "Checking matches of Ambush\n",
      "https://www.hltv.org/stats/teams/matches/7674/Ambush?startDate=2020-04-30&endDate=2020-05-31\n",
      "Checking matches of GODSENT\n",
      "https://www.hltv.org/stats/teams/matches/6902/GODSENT?startDate=2020-04-30&endDate=2020-05-31\n",
      "Checking matches of c0ntact\n",
      "https://www.hltv.org/stats/teams/matches/10606/c0ntact?startDate=2020-04-30&endDate=2020-05-31\n",
      "Checking matches of HAVU\n",
      "https://www.hltv.org/stats/teams/matches/7865/HAVU?startDate=2020-04-30&endDate=2020-05-31\n",
      "Checking matches of sAw\n",
      "https://www.hltv.org/stats/teams/matches/10567/sAw?startDate=2020-04-30&endDate=2020-05-31\n",
      "Checking matches of Movistar Riders\n",
      "https://www.hltv.org/stats/teams/matches/7718/Movistar Riders?startDate=2020-04-30&endDate=2020-05-31\n",
      "Checking matches of Hard Legion\n",
      "https://www.hltv.org/stats/teams/matches/10421/Hard Legion?startDate=2020-04-30&endDate=2020-05-31\n",
      "Checking matches of Natus Vincere\n",
      "https://www.hltv.org/stats/teams/matches/4608/Natus Vincere?startDate=2020-04-30&endDate=2020-05-31\n",
      "Checking matches of TheDice\n",
      "https://www.hltv.org/stats/teams/matches/9949/TheDice?startDate=2020-04-30&endDate=2020-05-31\n",
      "Checking matches of ALTERNATE aTTaX\n",
      "https://www.hltv.org/stats/teams/matches/4501/ALTERNATE aTTaX?startDate=2020-04-30&endDate=2020-05-31\n",
      "Checking matches of Nordavind\n",
      "https://www.hltv.org/stats/teams/matches/8769/Nordavind?startDate=2020-04-30&endDate=2020-05-31\n",
      "Checking matches of Complexity\n",
      "https://www.hltv.org/stats/teams/matches/5005/Complexity?startDate=2020-04-30&endDate=2020-05-31\n",
      "Checking matches of KOVA\n",
      "https://www.hltv.org/stats/teams/matches/9648/KOVA?startDate=2020-04-30&endDate=2020-05-31\n",
      "Checking matches of SMASH\n",
      "https://www.hltv.org/stats/teams/matches/10315/SMASH?startDate=2020-04-30&endDate=2020-05-31\n",
      "Checking matches of Vitality\n",
      "https://www.hltv.org/stats/teams/matches/9565/Vitality?startDate=2020-04-30&endDate=2020-05-31\n",
      "Checking matches of Secret\n",
      "https://www.hltv.org/stats/teams/matches/10488/Secret?startDate=2020-04-30&endDate=2020-05-31\n",
      "Checking matches of Apeks\n",
      "https://www.hltv.org/stats/teams/matches/9806/Apeks?startDate=2020-04-30&endDate=2020-05-31\n",
      "Checking matches of fnatic\n",
      "https://www.hltv.org/stats/teams/matches/4991/fnatic?startDate=2020-04-30&endDate=2020-05-31\n",
      "Checking matches of Winstrike\n",
      "https://www.hltv.org/stats/teams/matches/9183/Winstrike?startDate=2020-04-30&endDate=2020-05-31\n",
      "Checking matches of mousesports\n",
      "https://www.hltv.org/stats/teams/matches/4494/mousesports?startDate=2020-04-30&endDate=2020-05-31\n",
      "Checking matches of AVEZ\n",
      "https://www.hltv.org/stats/teams/matches/9797/AVEZ?startDate=2020-04-30&endDate=2020-05-31\n"
     ]
    }
   ],
   "source": [
    "n_layers = 3\n",
    "layers_list = []  # Create list that will be filled with lists of layers\n",
    "matchups = {}  # Dict will have each team as a key and all its past opponents as values\n",
    "team_indices = {}  # Index of each team\n",
    "layers_list.append(proper_names)  # the two teams that will play are layer 0\n",
    "\n",
    "ignore_list = []  # teams already in a previous layer will be ignored\n",
    "\n",
    "for i in range(n_layers):\n",
    "    print(\"######## Layer {} ########\".format(i))\n",
    "    new_layer = []  # create empty layer that will be filled with teams of the next layer\n",
    "    j = 0\n",
    "    for team in layers_list[i]:\n",
    "        try:  # instead of aborting program if team ID can't be found just go to next team\n",
    "            ignore_list.append(team)\n",
    "            # Define url\n",
    "            params = [get_team_id(team), team, start_date, end_date]\n",
    "            results_url = r\"https://www.hltv.org/stats/teams/matches/{}/{}?startDate={}&endDate={}\".format(*params)\n",
    "                \n",
    "            print(\"Checking matches of {}\\n{}\".format(team, results_url))\n",
    "            source = requests.get(results_url).text\n",
    "            soup = BeautifulSoup(source, \"lxml\")\n",
    "            body = soup.find(\"tbody\")\n",
    "                \n",
    "            matchups[team] = []  # create new key using team\n",
    "                \n",
    "            for match in body.findAll(\"tr\"):\n",
    "                opponent_name = match.find(\"td\", class_=None).a.text\n",
    "                if opponent_name not in ignore_list:\n",
    "                    # Ignore list contains all teams from previous layers \n",
    "                    # or those from this layer that were already checked\n",
    "                    if i == (n_layers-1):\n",
    "                        # For the outermost layer we only want new matchups within that layer\n",
    "                        if opponent_name in layers_list[i]:\n",
    "                            matchups[team].append(opponent_name)\n",
    "                    else:\n",
    "                        # For all other layers we note the matchup unless the opponent is in the ignore list\n",
    "                        matchups[team].append(opponent_name)\n",
    "                        if opponent_name not in new_layer and opponent_name not in layers_list[i]:\n",
    "                            new_layer.append(opponent_name)\n",
    "                \n",
    "            team_indices[team] = (i, j)\n",
    "            \n",
    "        except KeyError:\n",
    "            print(\"\\nSkipping team '{}' because no ID was found\\n\".format(team))\n",
    "        \n",
    "        j += 1\n",
    "        time.sleep(1)  # prevent ddos protection\n",
    "    \n",
    "    if i < n_layers-1:\n",
    "        new_layer = list(set(new_layer))  # set shows only unique entries and list() turns it back into a list\n",
    "        layers_list.append(new_layer)\n",
    "    "
   ]
  },
  {
   "cell_type": "code",
   "execution_count": 490,
   "metadata": {},
   "outputs": [
    {
     "name": "stdout",
     "output_type": "stream",
     "text": [
      "33\n",
      "[1, 8, 24]\n"
     ]
    }
   ],
   "source": [
    "print(len(matchups.keys()))\n",
    "print([len(x) for x in layers_list])"
   ]
  },
  {
   "cell_type": "markdown",
   "metadata": {},
   "source": [
    "## Plotting"
   ]
  },
  {
   "cell_type": "code",
   "execution_count": 463,
   "metadata": {},
   "outputs": [],
   "source": [
    "import matplotlib.pyplot as plt\n",
    "from mpl_toolkits.mplot3d import Axes3D\n",
    "import math as m\n",
    "%matplotlib notebook\n",
    "plt.rcParams['figure.figsize'] = (8.0, 8.0)"
   ]
  },
  {
   "cell_type": "code",
   "execution_count": 486,
   "metadata": {},
   "outputs": [],
   "source": [
    "def plot_graph(layers_list, matchups, team_indices):\n",
    "    fig = plt.figure()\n",
    "    ax = fig.add_subplot(111, projection='3d')\n",
    "    \n",
    "    offset = len(layers_list)\n",
    "    x_vals_list = []\n",
    "    y_vals_list = []\n",
    "    z_vals_list = []\n",
    "    \n",
    "    # Nodes\n",
    "    for layer in layers_list:\n",
    "        x_vals, y_vals = points_on_disc(layer)\n",
    "        z_vals = [offset + random.uniform(-1, 1) for i in range(len(layer))]\n",
    "        #z_vals = offset\n",
    "        \n",
    "        ax.scatter(x_vals, y_vals, z_vals, s=50, depthshade=True)\n",
    "        \n",
    "        x_vals_list.append(x_vals)\n",
    "        y_vals_list.append(y_vals)\n",
    "        z_vals_list.append(z_vals)\n",
    "        offset -= 10\n",
    "    \n",
    "    # Edges and Text\n",
    "    for team in matchups.keys():\n",
    "        team_idx = team_indices[team]\n",
    "        team_x = x_vals_list[team_idx[0]][team_idx[1]]\n",
    "        team_y = y_vals_list[team_idx[0]][team_idx[1]]\n",
    "        team_z = z_vals_list[team_idx[0]][team_idx[1]]\n",
    "            \n",
    "        for opponent in matchups[team]:\n",
    "            n_matches = matchups[team].count(opponent)\n",
    "            opponent_idx = team_indices[opponent]\n",
    "            opponent_x = x_vals_list[opponent_idx[0]][opponent_idx[1]]\n",
    "            opponent_y = y_vals_list[opponent_idx[0]][opponent_idx[1]]\n",
    "            opponent_z = z_vals_list[opponent_idx[0]][opponent_idx[1]]\n",
    "            \n",
    "            ax.plot([team_x, opponent_x], [team_y, opponent_y], [team_z, opponent_z],\n",
    "                   linewidth = 0.2*n_matches, color = \"gray\", alpha=0.1)\n",
    "        ax.text(team_x, team_y, team_z, team, fontsize=7)\n",
    "    \n",
    "    plt.axis(\"off\")"
   ]
  },
  {
   "cell_type": "code",
   "execution_count": 487,
   "metadata": {},
   "outputs": [
    {
     "data": {
      "application/javascript": [
       "/* Put everything inside the global mpl namespace */\n",
       "window.mpl = {};\n",
       "\n",
       "\n",
       "mpl.get_websocket_type = function() {\n",
       "    if (typeof(WebSocket) !== 'undefined') {\n",
       "        return WebSocket;\n",
       "    } else if (typeof(MozWebSocket) !== 'undefined') {\n",
       "        return MozWebSocket;\n",
       "    } else {\n",
       "        alert('Your browser does not have WebSocket support. ' +\n",
       "              'Please try Chrome, Safari or Firefox ≥ 6. ' +\n",
       "              'Firefox 4 and 5 are also supported but you ' +\n",
       "              'have to enable WebSockets in about:config.');\n",
       "    };\n",
       "}\n",
       "\n",
       "mpl.figure = function(figure_id, websocket, ondownload, parent_element) {\n",
       "    this.id = figure_id;\n",
       "\n",
       "    this.ws = websocket;\n",
       "\n",
       "    this.supports_binary = (this.ws.binaryType != undefined);\n",
       "\n",
       "    if (!this.supports_binary) {\n",
       "        var warnings = document.getElementById(\"mpl-warnings\");\n",
       "        if (warnings) {\n",
       "            warnings.style.display = 'block';\n",
       "            warnings.textContent = (\n",
       "                \"This browser does not support binary websocket messages. \" +\n",
       "                    \"Performance may be slow.\");\n",
       "        }\n",
       "    }\n",
       "\n",
       "    this.imageObj = new Image();\n",
       "\n",
       "    this.context = undefined;\n",
       "    this.message = undefined;\n",
       "    this.canvas = undefined;\n",
       "    this.rubberband_canvas = undefined;\n",
       "    this.rubberband_context = undefined;\n",
       "    this.format_dropdown = undefined;\n",
       "\n",
       "    this.image_mode = 'full';\n",
       "\n",
       "    this.root = $('<div/>');\n",
       "    this._root_extra_style(this.root)\n",
       "    this.root.attr('style', 'display: inline-block');\n",
       "\n",
       "    $(parent_element).append(this.root);\n",
       "\n",
       "    this._init_header(this);\n",
       "    this._init_canvas(this);\n",
       "    this._init_toolbar(this);\n",
       "\n",
       "    var fig = this;\n",
       "\n",
       "    this.waiting = false;\n",
       "\n",
       "    this.ws.onopen =  function () {\n",
       "            fig.send_message(\"supports_binary\", {value: fig.supports_binary});\n",
       "            fig.send_message(\"send_image_mode\", {});\n",
       "            if (mpl.ratio != 1) {\n",
       "                fig.send_message(\"set_dpi_ratio\", {'dpi_ratio': mpl.ratio});\n",
       "            }\n",
       "            fig.send_message(\"refresh\", {});\n",
       "        }\n",
       "\n",
       "    this.imageObj.onload = function() {\n",
       "            if (fig.image_mode == 'full') {\n",
       "                // Full images could contain transparency (where diff images\n",
       "                // almost always do), so we need to clear the canvas so that\n",
       "                // there is no ghosting.\n",
       "                fig.context.clearRect(0, 0, fig.canvas.width, fig.canvas.height);\n",
       "            }\n",
       "            fig.context.drawImage(fig.imageObj, 0, 0);\n",
       "        };\n",
       "\n",
       "    this.imageObj.onunload = function() {\n",
       "        fig.ws.close();\n",
       "    }\n",
       "\n",
       "    this.ws.onmessage = this._make_on_message_function(this);\n",
       "\n",
       "    this.ondownload = ondownload;\n",
       "}\n",
       "\n",
       "mpl.figure.prototype._init_header = function() {\n",
       "    var titlebar = $(\n",
       "        '<div class=\"ui-dialog-titlebar ui-widget-header ui-corner-all ' +\n",
       "        'ui-helper-clearfix\"/>');\n",
       "    var titletext = $(\n",
       "        '<div class=\"ui-dialog-title\" style=\"width: 100%; ' +\n",
       "        'text-align: center; padding: 3px;\"/>');\n",
       "    titlebar.append(titletext)\n",
       "    this.root.append(titlebar);\n",
       "    this.header = titletext[0];\n",
       "}\n",
       "\n",
       "\n",
       "\n",
       "mpl.figure.prototype._canvas_extra_style = function(canvas_div) {\n",
       "\n",
       "}\n",
       "\n",
       "\n",
       "mpl.figure.prototype._root_extra_style = function(canvas_div) {\n",
       "\n",
       "}\n",
       "\n",
       "mpl.figure.prototype._init_canvas = function() {\n",
       "    var fig = this;\n",
       "\n",
       "    var canvas_div = $('<div/>');\n",
       "\n",
       "    canvas_div.attr('style', 'position: relative; clear: both; outline: 0');\n",
       "\n",
       "    function canvas_keyboard_event(event) {\n",
       "        return fig.key_event(event, event['data']);\n",
       "    }\n",
       "\n",
       "    canvas_div.keydown('key_press', canvas_keyboard_event);\n",
       "    canvas_div.keyup('key_release', canvas_keyboard_event);\n",
       "    this.canvas_div = canvas_div\n",
       "    this._canvas_extra_style(canvas_div)\n",
       "    this.root.append(canvas_div);\n",
       "\n",
       "    var canvas = $('<canvas/>');\n",
       "    canvas.addClass('mpl-canvas');\n",
       "    canvas.attr('style', \"left: 0; top: 0; z-index: 0; outline: 0\")\n",
       "\n",
       "    this.canvas = canvas[0];\n",
       "    this.context = canvas[0].getContext(\"2d\");\n",
       "\n",
       "    var backingStore = this.context.backingStorePixelRatio ||\n",
       "\tthis.context.webkitBackingStorePixelRatio ||\n",
       "\tthis.context.mozBackingStorePixelRatio ||\n",
       "\tthis.context.msBackingStorePixelRatio ||\n",
       "\tthis.context.oBackingStorePixelRatio ||\n",
       "\tthis.context.backingStorePixelRatio || 1;\n",
       "\n",
       "    mpl.ratio = (window.devicePixelRatio || 1) / backingStore;\n",
       "\n",
       "    var rubberband = $('<canvas/>');\n",
       "    rubberband.attr('style', \"position: absolute; left: 0; top: 0; z-index: 1;\")\n",
       "\n",
       "    var pass_mouse_events = true;\n",
       "\n",
       "    canvas_div.resizable({\n",
       "        start: function(event, ui) {\n",
       "            pass_mouse_events = false;\n",
       "        },\n",
       "        resize: function(event, ui) {\n",
       "            fig.request_resize(ui.size.width, ui.size.height);\n",
       "        },\n",
       "        stop: function(event, ui) {\n",
       "            pass_mouse_events = true;\n",
       "            fig.request_resize(ui.size.width, ui.size.height);\n",
       "        },\n",
       "    });\n",
       "\n",
       "    function mouse_event_fn(event) {\n",
       "        if (pass_mouse_events)\n",
       "            return fig.mouse_event(event, event['data']);\n",
       "    }\n",
       "\n",
       "    rubberband.mousedown('button_press', mouse_event_fn);\n",
       "    rubberband.mouseup('button_release', mouse_event_fn);\n",
       "    // Throttle sequential mouse events to 1 every 20ms.\n",
       "    rubberband.mousemove('motion_notify', mouse_event_fn);\n",
       "\n",
       "    rubberband.mouseenter('figure_enter', mouse_event_fn);\n",
       "    rubberband.mouseleave('figure_leave', mouse_event_fn);\n",
       "\n",
       "    canvas_div.on(\"wheel\", function (event) {\n",
       "        event = event.originalEvent;\n",
       "        event['data'] = 'scroll'\n",
       "        if (event.deltaY < 0) {\n",
       "            event.step = 1;\n",
       "        } else {\n",
       "            event.step = -1;\n",
       "        }\n",
       "        mouse_event_fn(event);\n",
       "    });\n",
       "\n",
       "    canvas_div.append(canvas);\n",
       "    canvas_div.append(rubberband);\n",
       "\n",
       "    this.rubberband = rubberband;\n",
       "    this.rubberband_canvas = rubberband[0];\n",
       "    this.rubberband_context = rubberband[0].getContext(\"2d\");\n",
       "    this.rubberband_context.strokeStyle = \"#000000\";\n",
       "\n",
       "    this._resize_canvas = function(width, height) {\n",
       "        // Keep the size of the canvas, canvas container, and rubber band\n",
       "        // canvas in synch.\n",
       "        canvas_div.css('width', width)\n",
       "        canvas_div.css('height', height)\n",
       "\n",
       "        canvas.attr('width', width * mpl.ratio);\n",
       "        canvas.attr('height', height * mpl.ratio);\n",
       "        canvas.attr('style', 'width: ' + width + 'px; height: ' + height + 'px;');\n",
       "\n",
       "        rubberband.attr('width', width);\n",
       "        rubberband.attr('height', height);\n",
       "    }\n",
       "\n",
       "    // Set the figure to an initial 600x600px, this will subsequently be updated\n",
       "    // upon first draw.\n",
       "    this._resize_canvas(600, 600);\n",
       "\n",
       "    // Disable right mouse context menu.\n",
       "    $(this.rubberband_canvas).bind(\"contextmenu\",function(e){\n",
       "        return false;\n",
       "    });\n",
       "\n",
       "    function set_focus () {\n",
       "        canvas.focus();\n",
       "        canvas_div.focus();\n",
       "    }\n",
       "\n",
       "    window.setTimeout(set_focus, 100);\n",
       "}\n",
       "\n",
       "mpl.figure.prototype._init_toolbar = function() {\n",
       "    var fig = this;\n",
       "\n",
       "    var nav_element = $('<div/>');\n",
       "    nav_element.attr('style', 'width: 100%');\n",
       "    this.root.append(nav_element);\n",
       "\n",
       "    // Define a callback function for later on.\n",
       "    function toolbar_event(event) {\n",
       "        return fig.toolbar_button_onclick(event['data']);\n",
       "    }\n",
       "    function toolbar_mouse_event(event) {\n",
       "        return fig.toolbar_button_onmouseover(event['data']);\n",
       "    }\n",
       "\n",
       "    for(var toolbar_ind in mpl.toolbar_items) {\n",
       "        var name = mpl.toolbar_items[toolbar_ind][0];\n",
       "        var tooltip = mpl.toolbar_items[toolbar_ind][1];\n",
       "        var image = mpl.toolbar_items[toolbar_ind][2];\n",
       "        var method_name = mpl.toolbar_items[toolbar_ind][3];\n",
       "\n",
       "        if (!name) {\n",
       "            // put a spacer in here.\n",
       "            continue;\n",
       "        }\n",
       "        var button = $('<button/>');\n",
       "        button.addClass('ui-button ui-widget ui-state-default ui-corner-all ' +\n",
       "                        'ui-button-icon-only');\n",
       "        button.attr('role', 'button');\n",
       "        button.attr('aria-disabled', 'false');\n",
       "        button.click(method_name, toolbar_event);\n",
       "        button.mouseover(tooltip, toolbar_mouse_event);\n",
       "\n",
       "        var icon_img = $('<span/>');\n",
       "        icon_img.addClass('ui-button-icon-primary ui-icon');\n",
       "        icon_img.addClass(image);\n",
       "        icon_img.addClass('ui-corner-all');\n",
       "\n",
       "        var tooltip_span = $('<span/>');\n",
       "        tooltip_span.addClass('ui-button-text');\n",
       "        tooltip_span.html(tooltip);\n",
       "\n",
       "        button.append(icon_img);\n",
       "        button.append(tooltip_span);\n",
       "\n",
       "        nav_element.append(button);\n",
       "    }\n",
       "\n",
       "    var fmt_picker_span = $('<span/>');\n",
       "\n",
       "    var fmt_picker = $('<select/>');\n",
       "    fmt_picker.addClass('mpl-toolbar-option ui-widget ui-widget-content');\n",
       "    fmt_picker_span.append(fmt_picker);\n",
       "    nav_element.append(fmt_picker_span);\n",
       "    this.format_dropdown = fmt_picker[0];\n",
       "\n",
       "    for (var ind in mpl.extensions) {\n",
       "        var fmt = mpl.extensions[ind];\n",
       "        var option = $(\n",
       "            '<option/>', {selected: fmt === mpl.default_extension}).html(fmt);\n",
       "        fmt_picker.append(option);\n",
       "    }\n",
       "\n",
       "    // Add hover states to the ui-buttons\n",
       "    $( \".ui-button\" ).hover(\n",
       "        function() { $(this).addClass(\"ui-state-hover\");},\n",
       "        function() { $(this).removeClass(\"ui-state-hover\");}\n",
       "    );\n",
       "\n",
       "    var status_bar = $('<span class=\"mpl-message\"/>');\n",
       "    nav_element.append(status_bar);\n",
       "    this.message = status_bar[0];\n",
       "}\n",
       "\n",
       "mpl.figure.prototype.request_resize = function(x_pixels, y_pixels) {\n",
       "    // Request matplotlib to resize the figure. Matplotlib will then trigger a resize in the client,\n",
       "    // which will in turn request a refresh of the image.\n",
       "    this.send_message('resize', {'width': x_pixels, 'height': y_pixels});\n",
       "}\n",
       "\n",
       "mpl.figure.prototype.send_message = function(type, properties) {\n",
       "    properties['type'] = type;\n",
       "    properties['figure_id'] = this.id;\n",
       "    this.ws.send(JSON.stringify(properties));\n",
       "}\n",
       "\n",
       "mpl.figure.prototype.send_draw_message = function() {\n",
       "    if (!this.waiting) {\n",
       "        this.waiting = true;\n",
       "        this.ws.send(JSON.stringify({type: \"draw\", figure_id: this.id}));\n",
       "    }\n",
       "}\n",
       "\n",
       "\n",
       "mpl.figure.prototype.handle_save = function(fig, msg) {\n",
       "    var format_dropdown = fig.format_dropdown;\n",
       "    var format = format_dropdown.options[format_dropdown.selectedIndex].value;\n",
       "    fig.ondownload(fig, format);\n",
       "}\n",
       "\n",
       "\n",
       "mpl.figure.prototype.handle_resize = function(fig, msg) {\n",
       "    var size = msg['size'];\n",
       "    if (size[0] != fig.canvas.width || size[1] != fig.canvas.height) {\n",
       "        fig._resize_canvas(size[0], size[1]);\n",
       "        fig.send_message(\"refresh\", {});\n",
       "    };\n",
       "}\n",
       "\n",
       "mpl.figure.prototype.handle_rubberband = function(fig, msg) {\n",
       "    var x0 = msg['x0'] / mpl.ratio;\n",
       "    var y0 = (fig.canvas.height - msg['y0']) / mpl.ratio;\n",
       "    var x1 = msg['x1'] / mpl.ratio;\n",
       "    var y1 = (fig.canvas.height - msg['y1']) / mpl.ratio;\n",
       "    x0 = Math.floor(x0) + 0.5;\n",
       "    y0 = Math.floor(y0) + 0.5;\n",
       "    x1 = Math.floor(x1) + 0.5;\n",
       "    y1 = Math.floor(y1) + 0.5;\n",
       "    var min_x = Math.min(x0, x1);\n",
       "    var min_y = Math.min(y0, y1);\n",
       "    var width = Math.abs(x1 - x0);\n",
       "    var height = Math.abs(y1 - y0);\n",
       "\n",
       "    fig.rubberband_context.clearRect(\n",
       "        0, 0, fig.canvas.width / mpl.ratio, fig.canvas.height / mpl.ratio);\n",
       "\n",
       "    fig.rubberband_context.strokeRect(min_x, min_y, width, height);\n",
       "}\n",
       "\n",
       "mpl.figure.prototype.handle_figure_label = function(fig, msg) {\n",
       "    // Updates the figure title.\n",
       "    fig.header.textContent = msg['label'];\n",
       "}\n",
       "\n",
       "mpl.figure.prototype.handle_cursor = function(fig, msg) {\n",
       "    var cursor = msg['cursor'];\n",
       "    switch(cursor)\n",
       "    {\n",
       "    case 0:\n",
       "        cursor = 'pointer';\n",
       "        break;\n",
       "    case 1:\n",
       "        cursor = 'default';\n",
       "        break;\n",
       "    case 2:\n",
       "        cursor = 'crosshair';\n",
       "        break;\n",
       "    case 3:\n",
       "        cursor = 'move';\n",
       "        break;\n",
       "    }\n",
       "    fig.rubberband_canvas.style.cursor = cursor;\n",
       "}\n",
       "\n",
       "mpl.figure.prototype.handle_message = function(fig, msg) {\n",
       "    fig.message.textContent = msg['message'];\n",
       "}\n",
       "\n",
       "mpl.figure.prototype.handle_draw = function(fig, msg) {\n",
       "    // Request the server to send over a new figure.\n",
       "    fig.send_draw_message();\n",
       "}\n",
       "\n",
       "mpl.figure.prototype.handle_image_mode = function(fig, msg) {\n",
       "    fig.image_mode = msg['mode'];\n",
       "}\n",
       "\n",
       "mpl.figure.prototype.updated_canvas_event = function() {\n",
       "    // Called whenever the canvas gets updated.\n",
       "    this.send_message(\"ack\", {});\n",
       "}\n",
       "\n",
       "// A function to construct a web socket function for onmessage handling.\n",
       "// Called in the figure constructor.\n",
       "mpl.figure.prototype._make_on_message_function = function(fig) {\n",
       "    return function socket_on_message(evt) {\n",
       "        if (evt.data instanceof Blob) {\n",
       "            /* FIXME: We get \"Resource interpreted as Image but\n",
       "             * transferred with MIME type text/plain:\" errors on\n",
       "             * Chrome.  But how to set the MIME type?  It doesn't seem\n",
       "             * to be part of the websocket stream */\n",
       "            evt.data.type = \"image/png\";\n",
       "\n",
       "            /* Free the memory for the previous frames */\n",
       "            if (fig.imageObj.src) {\n",
       "                (window.URL || window.webkitURL).revokeObjectURL(\n",
       "                    fig.imageObj.src);\n",
       "            }\n",
       "\n",
       "            fig.imageObj.src = (window.URL || window.webkitURL).createObjectURL(\n",
       "                evt.data);\n",
       "            fig.updated_canvas_event();\n",
       "            fig.waiting = false;\n",
       "            return;\n",
       "        }\n",
       "        else if (typeof evt.data === 'string' && evt.data.slice(0, 21) == \"data:image/png;base64\") {\n",
       "            fig.imageObj.src = evt.data;\n",
       "            fig.updated_canvas_event();\n",
       "            fig.waiting = false;\n",
       "            return;\n",
       "        }\n",
       "\n",
       "        var msg = JSON.parse(evt.data);\n",
       "        var msg_type = msg['type'];\n",
       "\n",
       "        // Call the  \"handle_{type}\" callback, which takes\n",
       "        // the figure and JSON message as its only arguments.\n",
       "        try {\n",
       "            var callback = fig[\"handle_\" + msg_type];\n",
       "        } catch (e) {\n",
       "            console.log(\"No handler for the '\" + msg_type + \"' message type: \", msg);\n",
       "            return;\n",
       "        }\n",
       "\n",
       "        if (callback) {\n",
       "            try {\n",
       "                // console.log(\"Handling '\" + msg_type + \"' message: \", msg);\n",
       "                callback(fig, msg);\n",
       "            } catch (e) {\n",
       "                console.log(\"Exception inside the 'handler_\" + msg_type + \"' callback:\", e, e.stack, msg);\n",
       "            }\n",
       "        }\n",
       "    };\n",
       "}\n",
       "\n",
       "// from http://stackoverflow.com/questions/1114465/getting-mouse-location-in-canvas\n",
       "mpl.findpos = function(e) {\n",
       "    //this section is from http://www.quirksmode.org/js/events_properties.html\n",
       "    var targ;\n",
       "    if (!e)\n",
       "        e = window.event;\n",
       "    if (e.target)\n",
       "        targ = e.target;\n",
       "    else if (e.srcElement)\n",
       "        targ = e.srcElement;\n",
       "    if (targ.nodeType == 3) // defeat Safari bug\n",
       "        targ = targ.parentNode;\n",
       "\n",
       "    // jQuery normalizes the pageX and pageY\n",
       "    // pageX,Y are the mouse positions relative to the document\n",
       "    // offset() returns the position of the element relative to the document\n",
       "    var x = e.pageX - $(targ).offset().left;\n",
       "    var y = e.pageY - $(targ).offset().top;\n",
       "\n",
       "    return {\"x\": x, \"y\": y};\n",
       "};\n",
       "\n",
       "/*\n",
       " * return a copy of an object with only non-object keys\n",
       " * we need this to avoid circular references\n",
       " * http://stackoverflow.com/a/24161582/3208463\n",
       " */\n",
       "function simpleKeys (original) {\n",
       "  return Object.keys(original).reduce(function (obj, key) {\n",
       "    if (typeof original[key] !== 'object')\n",
       "        obj[key] = original[key]\n",
       "    return obj;\n",
       "  }, {});\n",
       "}\n",
       "\n",
       "mpl.figure.prototype.mouse_event = function(event, name) {\n",
       "    var canvas_pos = mpl.findpos(event)\n",
       "\n",
       "    if (name === 'button_press')\n",
       "    {\n",
       "        this.canvas.focus();\n",
       "        this.canvas_div.focus();\n",
       "    }\n",
       "\n",
       "    var x = canvas_pos.x * mpl.ratio;\n",
       "    var y = canvas_pos.y * mpl.ratio;\n",
       "\n",
       "    this.send_message(name, {x: x, y: y, button: event.button,\n",
       "                             step: event.step,\n",
       "                             guiEvent: simpleKeys(event)});\n",
       "\n",
       "    /* This prevents the web browser from automatically changing to\n",
       "     * the text insertion cursor when the button is pressed.  We want\n",
       "     * to control all of the cursor setting manually through the\n",
       "     * 'cursor' event from matplotlib */\n",
       "    event.preventDefault();\n",
       "    return false;\n",
       "}\n",
       "\n",
       "mpl.figure.prototype._key_event_extra = function(event, name) {\n",
       "    // Handle any extra behaviour associated with a key event\n",
       "}\n",
       "\n",
       "mpl.figure.prototype.key_event = function(event, name) {\n",
       "\n",
       "    // Prevent repeat events\n",
       "    if (name == 'key_press')\n",
       "    {\n",
       "        if (event.which === this._key)\n",
       "            return;\n",
       "        else\n",
       "            this._key = event.which;\n",
       "    }\n",
       "    if (name == 'key_release')\n",
       "        this._key = null;\n",
       "\n",
       "    var value = '';\n",
       "    if (event.ctrlKey && event.which != 17)\n",
       "        value += \"ctrl+\";\n",
       "    if (event.altKey && event.which != 18)\n",
       "        value += \"alt+\";\n",
       "    if (event.shiftKey && event.which != 16)\n",
       "        value += \"shift+\";\n",
       "\n",
       "    value += 'k';\n",
       "    value += event.which.toString();\n",
       "\n",
       "    this._key_event_extra(event, name);\n",
       "\n",
       "    this.send_message(name, {key: value,\n",
       "                             guiEvent: simpleKeys(event)});\n",
       "    return false;\n",
       "}\n",
       "\n",
       "mpl.figure.prototype.toolbar_button_onclick = function(name) {\n",
       "    if (name == 'download') {\n",
       "        this.handle_save(this, null);\n",
       "    } else {\n",
       "        this.send_message(\"toolbar_button\", {name: name});\n",
       "    }\n",
       "};\n",
       "\n",
       "mpl.figure.prototype.toolbar_button_onmouseover = function(tooltip) {\n",
       "    this.message.textContent = tooltip;\n",
       "};\n",
       "mpl.toolbar_items = [[\"Home\", \"Reset original view\", \"fa fa-home icon-home\", \"home\"], [\"Back\", \"Back to previous view\", \"fa fa-arrow-left icon-arrow-left\", \"back\"], [\"Forward\", \"Forward to next view\", \"fa fa-arrow-right icon-arrow-right\", \"forward\"], [\"\", \"\", \"\", \"\"], [\"Pan\", \"Pan axes with left mouse, zoom with right\", \"fa fa-arrows icon-move\", \"pan\"], [\"Zoom\", \"Zoom to rectangle\", \"fa fa-square-o icon-check-empty\", \"zoom\"], [\"\", \"\", \"\", \"\"], [\"Download\", \"Download plot\", \"fa fa-floppy-o icon-save\", \"download\"]];\n",
       "\n",
       "mpl.extensions = [\"eps\", \"pdf\", \"png\", \"ps\", \"raw\", \"svg\"];\n",
       "\n",
       "mpl.default_extension = \"png\";var comm_websocket_adapter = function(comm) {\n",
       "    // Create a \"websocket\"-like object which calls the given IPython comm\n",
       "    // object with the appropriate methods. Currently this is a non binary\n",
       "    // socket, so there is still some room for performance tuning.\n",
       "    var ws = {};\n",
       "\n",
       "    ws.close = function() {\n",
       "        comm.close()\n",
       "    };\n",
       "    ws.send = function(m) {\n",
       "        //console.log('sending', m);\n",
       "        comm.send(m);\n",
       "    };\n",
       "    // Register the callback with on_msg.\n",
       "    comm.on_msg(function(msg) {\n",
       "        //console.log('receiving', msg['content']['data'], msg);\n",
       "        // Pass the mpl event to the overridden (by mpl) onmessage function.\n",
       "        ws.onmessage(msg['content']['data'])\n",
       "    });\n",
       "    return ws;\n",
       "}\n",
       "\n",
       "mpl.mpl_figure_comm = function(comm, msg) {\n",
       "    // This is the function which gets called when the mpl process\n",
       "    // starts-up an IPython Comm through the \"matplotlib\" channel.\n",
       "\n",
       "    var id = msg.content.data.id;\n",
       "    // Get hold of the div created by the display call when the Comm\n",
       "    // socket was opened in Python.\n",
       "    var element = $(\"#\" + id);\n",
       "    var ws_proxy = comm_websocket_adapter(comm)\n",
       "\n",
       "    function ondownload(figure, format) {\n",
       "        window.open(figure.imageObj.src);\n",
       "    }\n",
       "\n",
       "    var fig = new mpl.figure(id, ws_proxy,\n",
       "                           ondownload,\n",
       "                           element.get(0));\n",
       "\n",
       "    // Call onopen now - mpl needs it, as it is assuming we've passed it a real\n",
       "    // web socket which is closed, not our websocket->open comm proxy.\n",
       "    ws_proxy.onopen();\n",
       "\n",
       "    fig.parent_element = element.get(0);\n",
       "    fig.cell_info = mpl.find_output_cell(\"<div id='\" + id + \"'></div>\");\n",
       "    if (!fig.cell_info) {\n",
       "        console.error(\"Failed to find cell for figure\", id, fig);\n",
       "        return;\n",
       "    }\n",
       "\n",
       "    var output_index = fig.cell_info[2]\n",
       "    var cell = fig.cell_info[0];\n",
       "\n",
       "};\n",
       "\n",
       "mpl.figure.prototype.handle_close = function(fig, msg) {\n",
       "    var width = fig.canvas.width/mpl.ratio\n",
       "    fig.root.unbind('remove')\n",
       "\n",
       "    // Update the output cell to use the data from the current canvas.\n",
       "    fig.push_to_output();\n",
       "    var dataURL = fig.canvas.toDataURL();\n",
       "    // Re-enable the keyboard manager in IPython - without this line, in FF,\n",
       "    // the notebook keyboard shortcuts fail.\n",
       "    IPython.keyboard_manager.enable()\n",
       "    $(fig.parent_element).html('<img src=\"' + dataURL + '\" width=\"' + width + '\">');\n",
       "    fig.close_ws(fig, msg);\n",
       "}\n",
       "\n",
       "mpl.figure.prototype.close_ws = function(fig, msg){\n",
       "    fig.send_message('closing', msg);\n",
       "    // fig.ws.close()\n",
       "}\n",
       "\n",
       "mpl.figure.prototype.push_to_output = function(remove_interactive) {\n",
       "    // Turn the data on the canvas into data in the output cell.\n",
       "    var width = this.canvas.width/mpl.ratio\n",
       "    var dataURL = this.canvas.toDataURL();\n",
       "    this.cell_info[1]['text/html'] = '<img src=\"' + dataURL + '\" width=\"' + width + '\">';\n",
       "}\n",
       "\n",
       "mpl.figure.prototype.updated_canvas_event = function() {\n",
       "    // Tell IPython that the notebook contents must change.\n",
       "    IPython.notebook.set_dirty(true);\n",
       "    this.send_message(\"ack\", {});\n",
       "    var fig = this;\n",
       "    // Wait a second, then push the new image to the DOM so\n",
       "    // that it is saved nicely (might be nice to debounce this).\n",
       "    setTimeout(function () { fig.push_to_output() }, 1000);\n",
       "}\n",
       "\n",
       "mpl.figure.prototype._init_toolbar = function() {\n",
       "    var fig = this;\n",
       "\n",
       "    var nav_element = $('<div/>');\n",
       "    nav_element.attr('style', 'width: 100%');\n",
       "    this.root.append(nav_element);\n",
       "\n",
       "    // Define a callback function for later on.\n",
       "    function toolbar_event(event) {\n",
       "        return fig.toolbar_button_onclick(event['data']);\n",
       "    }\n",
       "    function toolbar_mouse_event(event) {\n",
       "        return fig.toolbar_button_onmouseover(event['data']);\n",
       "    }\n",
       "\n",
       "    for(var toolbar_ind in mpl.toolbar_items){\n",
       "        var name = mpl.toolbar_items[toolbar_ind][0];\n",
       "        var tooltip = mpl.toolbar_items[toolbar_ind][1];\n",
       "        var image = mpl.toolbar_items[toolbar_ind][2];\n",
       "        var method_name = mpl.toolbar_items[toolbar_ind][3];\n",
       "\n",
       "        if (!name) { continue; };\n",
       "\n",
       "        var button = $('<button class=\"btn btn-default\" href=\"#\" title=\"' + name + '\"><i class=\"fa ' + image + ' fa-lg\"></i></button>');\n",
       "        button.click(method_name, toolbar_event);\n",
       "        button.mouseover(tooltip, toolbar_mouse_event);\n",
       "        nav_element.append(button);\n",
       "    }\n",
       "\n",
       "    // Add the status bar.\n",
       "    var status_bar = $('<span class=\"mpl-message\" style=\"text-align:right; float: right;\"/>');\n",
       "    nav_element.append(status_bar);\n",
       "    this.message = status_bar[0];\n",
       "\n",
       "    // Add the close button to the window.\n",
       "    var buttongrp = $('<div class=\"btn-group inline pull-right\"></div>');\n",
       "    var button = $('<button class=\"btn btn-mini btn-primary\" href=\"#\" title=\"Stop Interaction\"><i class=\"fa fa-power-off icon-remove icon-large\"></i></button>');\n",
       "    button.click(function (evt) { fig.handle_close(fig, {}); } );\n",
       "    button.mouseover('Stop Interaction', toolbar_mouse_event);\n",
       "    buttongrp.append(button);\n",
       "    var titlebar = this.root.find($('.ui-dialog-titlebar'));\n",
       "    titlebar.prepend(buttongrp);\n",
       "}\n",
       "\n",
       "mpl.figure.prototype._root_extra_style = function(el){\n",
       "    var fig = this\n",
       "    el.on(\"remove\", function(){\n",
       "\tfig.close_ws(fig, {});\n",
       "    });\n",
       "}\n",
       "\n",
       "mpl.figure.prototype._canvas_extra_style = function(el){\n",
       "    // this is important to make the div 'focusable\n",
       "    el.attr('tabindex', 0)\n",
       "    // reach out to IPython and tell the keyboard manager to turn it's self\n",
       "    // off when our div gets focus\n",
       "\n",
       "    // location in version 3\n",
       "    if (IPython.notebook.keyboard_manager) {\n",
       "        IPython.notebook.keyboard_manager.register_events(el);\n",
       "    }\n",
       "    else {\n",
       "        // location in version 2\n",
       "        IPython.keyboard_manager.register_events(el);\n",
       "    }\n",
       "\n",
       "}\n",
       "\n",
       "mpl.figure.prototype._key_event_extra = function(event, name) {\n",
       "    var manager = IPython.notebook.keyboard_manager;\n",
       "    if (!manager)\n",
       "        manager = IPython.keyboard_manager;\n",
       "\n",
       "    // Check for shift+enter\n",
       "    if (event.shiftKey && event.which == 13) {\n",
       "        this.canvas_div.blur();\n",
       "        // select the cell after this one\n",
       "        var index = IPython.notebook.find_cell_index(this.cell_info[0]);\n",
       "        IPython.notebook.select(index + 1);\n",
       "    }\n",
       "}\n",
       "\n",
       "mpl.figure.prototype.handle_save = function(fig, msg) {\n",
       "    fig.ondownload(fig, null);\n",
       "}\n",
       "\n",
       "\n",
       "mpl.find_output_cell = function(html_output) {\n",
       "    // Return the cell and output element which can be found *uniquely* in the notebook.\n",
       "    // Note - this is a bit hacky, but it is done because the \"notebook_saving.Notebook\"\n",
       "    // IPython event is triggered only after the cells have been serialised, which for\n",
       "    // our purposes (turning an active figure into a static one), is too late.\n",
       "    var cells = IPython.notebook.get_cells();\n",
       "    var ncells = cells.length;\n",
       "    for (var i=0; i<ncells; i++) {\n",
       "        var cell = cells[i];\n",
       "        if (cell.cell_type === 'code'){\n",
       "            for (var j=0; j<cell.output_area.outputs.length; j++) {\n",
       "                var data = cell.output_area.outputs[j];\n",
       "                if (data.data) {\n",
       "                    // IPython >= 3 moved mimebundle to data attribute of output\n",
       "                    data = data.data;\n",
       "                }\n",
       "                if (data['text/html'] == html_output) {\n",
       "                    return [cell, data, j];\n",
       "                }\n",
       "            }\n",
       "        }\n",
       "    }\n",
       "}\n",
       "\n",
       "// Register the function which deals with the matplotlib target/channel.\n",
       "// The kernel may be null if the page has been refreshed.\n",
       "if (IPython.notebook.kernel != null) {\n",
       "    IPython.notebook.kernel.comm_manager.register_target('matplotlib', mpl.mpl_figure_comm);\n",
       "}\n"
      ],
      "text/plain": [
       "<IPython.core.display.Javascript object>"
      ]
     },
     "metadata": {},
     "output_type": "display_data"
    },
    {
     "data": {
      "text/html": [
       "<img src=\"data:image/png;base64,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\" width=\"800\">"
      ],
      "text/plain": [
       "<IPython.core.display.HTML object>"
      ]
     },
     "metadata": {},
     "output_type": "display_data"
    }
   ],
   "source": [
    "plot_graph(layers_list, matchups, team_indices)"
   ]
  },
  {
   "cell_type": "code",
   "execution_count": 459,
   "metadata": {},
   "outputs": [
    {
     "data": {
      "image/png": "[encoded data removed]",
      "text/plain": [
       "<Figure size 576x576 with 1 Axes>"
      ]
     },
     "metadata": {
      "needs_background": "light"
     },
     "output_type": "display_data"
    },
    {
     "data": {
      "text/plain": [
       "<Figure size 576x576 with 0 Axes>"
      ]
     },
     "metadata": {},
     "output_type": "display_data"
    },
    {
     "data": {
      "text/plain": [
       "<Figure size 576x576 with 0 Axes>"
      ]
     },
     "metadata": {},
     "output_type": "display_data"
    },
    {
     "data": {
      "text/plain": [
       "<Figure size 576x576 with 0 Axes>"
      ]
     },
     "metadata": {},
     "output_type": "display_data"
    },
    {
     "data": {
      "text/plain": [
       "<Figure size 576x576 with 0 Axes>"
      ]
     },
     "metadata": {},
     "output_type": "display_data"
    },
    {
     "data": {
      "text/plain": [
       "<Figure size 576x576 with 0 Axes>"
      ]
     },
     "metadata": {},
     "output_type": "display_data"
    },
    {
     "data": {
      "text/plain": [
       "<Figure size 576x576 with 0 Axes>"
      ]
     },
     "metadata": {},
     "output_type": "display_data"
    },
    {
     "data": {
      "text/plain": [
       "<Figure size 576x576 with 0 Axes>"
      ]
     },
     "metadata": {},
     "output_type": "display_data"
    },
    {
     "data": {
      "text/plain": [
       "<Figure size 576x576 with 0 Axes>"
      ]
     },
     "metadata": {},
     "output_type": "display_data"
    },
    {
     "data": {
      "text/plain": [
       "<Figure size 576x576 with 0 Axes>"
      ]
     },
     "metadata": {},
     "output_type": "display_data"
    },
    {
     "data": {
      "text/plain": [
       "<Figure size 576x576 with 0 Axes>"
      ]
     },
     "metadata": {},
     "output_type": "display_data"
    },
    {
     "data": {
      "text/plain": [
       "<Figure size 576x576 with 0 Axes>"
      ]
     },
     "metadata": {},
     "output_type": "display_data"
    },
    {
     "data": {
      "text/plain": [
       "<Figure size 576x576 with 0 Axes>"
      ]
     },
     "metadata": {},
     "output_type": "display_data"
    },
    {
     "data": {
      "text/plain": [
       "<Figure size 576x576 with 0 Axes>"
      ]
     },
     "metadata": {},
     "output_type": "display_data"
    },
    {
     "data": {
      "text/plain": [
       "<Figure size 576x576 with 0 Axes>"
      ]
     },
     "metadata": {},
     "output_type": "display_data"
    },
    {
     "data": {
      "text/plain": [
       "<Figure size 576x576 with 0 Axes>"
      ]
     },
     "metadata": {},
     "output_type": "display_data"
    },
    {
     "data": {
      "text/plain": [
       "<Figure size 576x576 with 0 Axes>"
      ]
     },
     "metadata": {},
     "output_type": "display_data"
    },
    {
     "data": {
      "text/plain": [
       "<Figure size 576x576 with 0 Axes>"
      ]
     },
     "metadata": {},
     "output_type": "display_data"
    },
    {
     "data": {
      "text/plain": [
       "<Figure size 576x576 with 0 Axes>"
      ]
     },
     "metadata": {},
     "output_type": "display_data"
    },
    {
     "data": {
      "text/plain": [
       "<Figure size 576x576 with 0 Axes>"
      ]
     },
     "metadata": {},
     "output_type": "display_data"
    },
    {
     "data": {
      "text/plain": [
       "<Figure size 576x576 with 0 Axes>"
      ]
     },
     "metadata": {},
     "output_type": "display_data"
    },
    {
     "data": {
      "text/plain": [
       "<Figure size 576x576 with 0 Axes>"
      ]
     },
     "metadata": {},
     "output_type": "display_data"
    },
    {
     "data": {
      "text/plain": [
       "<Figure size 576x576 with 0 Axes>"
      ]
     },
     "metadata": {},
     "output_type": "display_data"
    },
    {
     "data": {
      "text/plain": [
       "<Figure size 576x576 with 0 Axes>"
      ]
     },
     "metadata": {},
     "output_type": "display_data"
    },
    {
     "data": {
      "text/plain": [
       "<Figure size 576x576 with 0 Axes>"
      ]
     },
     "metadata": {},
     "output_type": "display_data"
    },
    {
     "data": {
      "text/plain": [
       "<Figure size 576x576 with 0 Axes>"
      ]
     },
     "metadata": {},
     "output_type": "display_data"
    },
    {
     "data": {
      "text/plain": [
       "<Figure size 576x576 with 0 Axes>"
      ]
     },
     "metadata": {},
     "output_type": "display_data"
    },
    {
     "data": {
      "text/plain": [
       "<Figure size 576x576 with 0 Axes>"
      ]
     },
     "metadata": {},
     "output_type": "display_data"
    },
    {
     "data": {
      "text/plain": [
       "<Figure size 576x576 with 0 Axes>"
      ]
     },
     "metadata": {},
     "output_type": "display_data"
    },
    {
     "data": {
      "text/plain": [
       "<Figure size 576x576 with 0 Axes>"
      ]
     },
     "metadata": {},
     "output_type": "display_data"
    },
    {
     "data": {
      "text/plain": [
       "<Figure size 576x576 with 0 Axes>"
      ]
     },
     "metadata": {},
     "output_type": "display_data"
    },
    {
     "data": {
      "text/plain": [
       "<Figure size 576x576 with 0 Axes>"
      ]
     },
     "metadata": {},
     "output_type": "display_data"
    },
    {
     "data": {
      "text/plain": [
       "<Figure size 576x576 with 0 Axes>"
      ]
     },
     "metadata": {},
     "output_type": "display_data"
    },
    {
     "data": {
      "text/plain": [
       "<Figure size 576x576 with 0 Axes>"
      ]
     },
     "metadata": {},
     "output_type": "display_data"
    },
    {
     "data": {
      "text/plain": [
       "<Figure size 576x576 with 0 Axes>"
      ]
     },
     "metadata": {},
     "output_type": "display_data"
    },
    {
     "data": {
      "text/plain": [
       "<Figure size 576x576 with 0 Axes>"
      ]
     },
     "metadata": {},
     "output_type": "display_data"
    },
    {
     "data": {
      "text/plain": [
       "<Figure size 576x576 with 0 Axes>"
      ]
     },
     "metadata": {},
     "output_type": "display_data"
    },
    {
     "data": {
      "text/plain": [
       "<Figure size 576x576 with 0 Axes>"
      ]
     },
     "metadata": {},
     "output_type": "display_data"
    },
    {
     "data": {
      "text/plain": [
       "<Figure size 576x576 with 0 Axes>"
      ]
     },
     "metadata": {},
     "output_type": "display_data"
    },
    {
     "data": {
      "text/plain": [
       "<Figure size 576x576 with 0 Axes>"
      ]
     },
     "metadata": {},
     "output_type": "display_data"
    },
    {
     "data": {
      "text/plain": [
       "<Figure size 576x576 with 0 Axes>"
      ]
     },
     "metadata": {},
     "output_type": "display_data"
    },
    {
     "data": {
      "text/plain": [
       "<Figure size 576x576 with 0 Axes>"
      ]
     },
     "metadata": {},
     "output_type": "display_data"
    },
    {
     "data": {
      "text/plain": [
       "<Figure size 576x576 with 0 Axes>"
      ]
     },
     "metadata": {},
     "output_type": "display_data"
    },
    {
     "data": {
      "text/plain": [
       "<Figure size 576x576 with 0 Axes>"
      ]
     },
     "metadata": {},
     "output_type": "display_data"
    },
    {
     "data": {
      "text/plain": [
       "<Figure size 576x576 with 0 Axes>"
      ]
     },
     "metadata": {},
     "output_type": "display_data"
    },
    {
     "data": {
      "text/plain": [
       "<Figure size 576x576 with 0 Axes>"
      ]
     },
     "metadata": {},
     "output_type": "display_data"
    },
    {
     "data": {
      "text/plain": [
       "<Figure size 576x576 with 0 Axes>"
      ]
     },
     "metadata": {},
     "output_type": "display_data"
    },
    {
     "data": {
      "text/plain": [
       "<Figure size 576x576 with 0 Axes>"
      ]
     },
     "metadata": {},
     "output_type": "display_data"
    },
    {
     "data": {
      "text/plain": [
       "<Figure size 576x576 with 0 Axes>"
      ]
     },
     "metadata": {},
     "output_type": "display_data"
    },
    {
     "data": {
      "text/plain": [
       "<Figure size 576x576 with 0 Axes>"
      ]
     },
     "metadata": {},
     "output_type": "display_data"
    },
    {
     "data": {
      "text/plain": [
       "<Figure size 576x576 with 0 Axes>"
      ]
     },
     "metadata": {},
     "output_type": "display_data"
    },
    {
     "data": {
      "text/plain": [
       "<Figure size 576x576 with 0 Axes>"
      ]
     },
     "metadata": {},
     "output_type": "display_data"
    },
    {
     "data": {
      "text/plain": [
       "<Figure size 576x576 with 0 Axes>"
      ]
     },
     "metadata": {},
     "output_type": "display_data"
    },
    {
     "data": {
      "text/plain": [
       "<Figure size 576x576 with 0 Axes>"
      ]
     },
     "metadata": {},
     "output_type": "display_data"
    },
    {
     "data": {
      "text/plain": [
       "<Figure size 576x576 with 0 Axes>"
      ]
     },
     "metadata": {},
     "output_type": "display_data"
    },
    {
     "data": {
      "text/plain": [
       "<Figure size 576x576 with 0 Axes>"
      ]
     },
     "metadata": {},
     "output_type": "display_data"
    },
    {
     "data": {
      "text/plain": [
       "<Figure size 576x576 with 0 Axes>"
      ]
     },
     "metadata": {},
     "output_type": "display_data"
    },
    {
     "data": {
      "text/plain": [
       "<Figure size 576x576 with 0 Axes>"
      ]
     },
     "metadata": {},
     "output_type": "display_data"
    },
    {
     "data": {
      "text/plain": [
       "<Figure size 576x576 with 0 Axes>"
      ]
     },
     "metadata": {},
     "output_type": "display_data"
    },
    {
     "data": {
      "text/plain": [
       "<Figure size 576x576 with 0 Axes>"
      ]
     },
     "metadata": {},
     "output_type": "display_data"
    },
    {
     "data": {
      "text/plain": [
       "<Figure size 576x576 with 0 Axes>"
      ]
     },
     "metadata": {},
     "output_type": "display_data"
    },
    {
     "data": {
      "text/plain": [
       "<Figure size 576x576 with 0 Axes>"
      ]
     },
     "metadata": {},
     "output_type": "display_data"
    },
    {
     "data": {
      "text/plain": [
       "<Figure size 576x576 with 0 Axes>"
      ]
     },
     "metadata": {},
     "output_type": "display_data"
    },
    {
     "data": {
      "text/plain": [
       "<Figure size 576x576 with 0 Axes>"
      ]
     },
     "metadata": {},
     "output_type": "display_data"
    },
    {
     "data": {
      "text/plain": [
       "<Figure size 576x576 with 0 Axes>"
      ]
     },
     "metadata": {},
     "output_type": "display_data"
    },
    {
     "data": {
      "text/plain": [
       "<Figure size 576x576 with 0 Axes>"
      ]
     },
     "metadata": {},
     "output_type": "display_data"
    },
    {
     "data": {
      "text/plain": [
       "<Figure size 576x576 with 0 Axes>"
      ]
     },
     "metadata": {},
     "output_type": "display_data"
    },
    {
     "data": {
      "text/plain": [
       "<Figure size 576x576 with 0 Axes>"
      ]
     },
     "metadata": {},
     "output_type": "display_data"
    },
    {
     "data": {
      "text/plain": [
       "<Figure size 576x576 with 0 Axes>"
      ]
     },
     "metadata": {},
     "output_type": "display_data"
    },
    {
     "data": {
      "text/plain": [
       "<Figure size 576x576 with 0 Axes>"
      ]
     },
     "metadata": {},
     "output_type": "display_data"
    },
    {
     "data": {
      "text/plain": [
       "<Figure size 576x576 with 0 Axes>"
      ]
     },
     "metadata": {},
     "output_type": "display_data"
    },
    {
     "data": {
      "text/plain": [
       "<Figure size 576x576 with 0 Axes>"
      ]
     },
     "metadata": {},
     "output_type": "display_data"
    },
    {
     "data": {
      "text/plain": [
       "<Figure size 576x576 with 0 Axes>"
      ]
     },
     "metadata": {},
     "output_type": "display_data"
    },
    {
     "data": {
      "text/plain": [
       "<Figure size 576x576 with 0 Axes>"
      ]
     },
     "metadata": {},
     "output_type": "display_data"
    },
    {
     "data": {
      "text/plain": [
       "<Figure size 576x576 with 0 Axes>"
      ]
     },
     "metadata": {},
     "output_type": "display_data"
    },
    {
     "data": {
      "text/plain": [
       "<Figure size 576x576 with 0 Axes>"
      ]
     },
     "metadata": {},
     "output_type": "display_data"
    },
    {
     "data": {
      "text/plain": [
       "<Figure size 576x576 with 0 Axes>"
      ]
     },
     "metadata": {},
     "output_type": "display_data"
    },
    {
     "data": {
      "text/plain": [
       "<Figure size 576x576 with 0 Axes>"
      ]
     },
     "metadata": {},
     "output_type": "display_data"
    },
    {
     "data": {
      "text/plain": [
       "<Figure size 576x576 with 0 Axes>"
      ]
     },
     "metadata": {},
     "output_type": "display_data"
    },
    {
     "data": {
      "text/plain": [
       "<Figure size 576x576 with 0 Axes>"
      ]
     },
     "metadata": {},
     "output_type": "display_data"
    },
    {
     "data": {
      "text/plain": [
       "<Figure size 576x576 with 0 Axes>"
      ]
     },
     "metadata": {},
     "output_type": "display_data"
    },
    {
     "data": {
      "text/plain": [
       "<Figure size 576x576 with 0 Axes>"
      ]
     },
     "metadata": {},
     "output_type": "display_data"
    },
    {
     "data": {
      "text/plain": [
       "<Figure size 576x576 with 0 Axes>"
      ]
     },
     "metadata": {},
     "output_type": "display_data"
    },
    {
     "data": {
      "text/plain": [
       "<Figure size 576x576 with 0 Axes>"
      ]
     },
     "metadata": {},
     "output_type": "display_data"
    },
    {
     "data": {
      "text/plain": [
       "<Figure size 576x576 with 0 Axes>"
      ]
     },
     "metadata": {},
     "output_type": "display_data"
    },
    {
     "data": {
      "text/plain": [
       "<Figure size 576x576 with 0 Axes>"
      ]
     },
     "metadata": {},
     "output_type": "display_data"
    },
    {
     "data": {
      "text/plain": [
       "<Figure size 576x576 with 0 Axes>"
      ]
     },
     "metadata": {},
     "output_type": "display_data"
    },
    {
     "data": {
      "text/plain": [
       "<Figure size 576x576 with 0 Axes>"
      ]
     },
     "metadata": {},
     "output_type": "display_data"
    },
    {
     "data": {
      "text/plain": [
       "<Figure size 576x576 with 0 Axes>"
      ]
     },
     "metadata": {},
     "output_type": "display_data"
    },
    {
     "data": {
      "text/plain": [
       "<Figure size 576x576 with 0 Axes>"
      ]
     },
     "metadata": {},
     "output_type": "display_data"
    },
    {
     "data": {
      "text/plain": [
       "<Figure size 576x576 with 0 Axes>"
      ]
     },
     "metadata": {},
     "output_type": "display_data"
    },
    {
     "data": {
      "text/plain": [
       "<Figure size 576x576 with 0 Axes>"
      ]
     },
     "metadata": {},
     "output_type": "display_data"
    },
    {
     "data": {
      "text/plain": [
       "<Figure size 576x576 with 0 Axes>"
      ]
     },
     "metadata": {},
     "output_type": "display_data"
    },
    {
     "data": {
      "text/plain": [
       "<Figure size 576x576 with 0 Axes>"
      ]
     },
     "metadata": {},
     "output_type": "display_data"
    },
    {
     "data": {
      "text/plain": [
       "<Figure size 576x576 with 0 Axes>"
      ]
     },
     "metadata": {},
     "output_type": "display_data"
    },
    {
     "data": {
      "text/plain": [
       "<Figure size 576x576 with 0 Axes>"
      ]
     },
     "metadata": {},
     "output_type": "display_data"
    },
    {
     "data": {
      "text/plain": [
       "<Figure size 576x576 with 0 Axes>"
      ]
     },
     "metadata": {},
     "output_type": "display_data"
    },
    {
     "data": {
      "text/plain": [
       "<Figure size 576x576 with 0 Axes>"
      ]
     },
     "metadata": {},
     "output_type": "display_data"
    },
    {
     "data": {
      "text/plain": [
       "<Figure size 576x576 with 0 Axes>"
      ]
     },
     "metadata": {},
     "output_type": "display_data"
    },
    {
     "data": {
      "text/plain": [
       "<Figure size 576x576 with 0 Axes>"
      ]
     },
     "metadata": {},
     "output_type": "display_data"
    },
    {
     "data": {
      "text/plain": [
       "<Figure size 576x576 with 0 Axes>"
      ]
     },
     "metadata": {},
     "output_type": "display_data"
    },
    {
     "data": {
      "text/plain": [
       "<Figure size 576x576 with 0 Axes>"
      ]
     },
     "metadata": {},
     "output_type": "display_data"
    },
    {
     "data": {
      "text/plain": [
       "<Figure size 576x576 with 0 Axes>"
      ]
     },
     "metadata": {},
     "output_type": "display_data"
    },
    {
     "data": {
      "text/plain": [
       "<Figure size 576x576 with 0 Axes>"
      ]
     },
     "metadata": {},
     "output_type": "display_data"
    },
    {
     "data": {
      "text/plain": [
       "<Figure size 576x576 with 0 Axes>"
      ]
     },
     "metadata": {},
     "output_type": "display_data"
    },
    {
     "data": {
      "text/plain": [
       "<Figure size 576x576 with 0 Axes>"
      ]
     },
     "metadata": {},
     "output_type": "display_data"
    },
    {
     "data": {
      "text/plain": [
       "<Figure size 576x576 with 0 Axes>"
      ]
     },
     "metadata": {},
     "output_type": "display_data"
    },
    {
     "data": {
      "text/plain": [
       "<Figure size 576x576 with 0 Axes>"
      ]
     },
     "metadata": {},
     "output_type": "display_data"
    },
    {
     "data": {
      "text/plain": [
       "<Figure size 576x576 with 0 Axes>"
      ]
     },
     "metadata": {},
     "output_type": "display_data"
    },
    {
     "data": {
      "text/plain": [
       "<Figure size 576x576 with 0 Axes>"
      ]
     },
     "metadata": {},
     "output_type": "display_data"
    },
    {
     "data": {
      "text/plain": [
       "<Figure size 576x576 with 0 Axes>"
      ]
     },
     "metadata": {},
     "output_type": "display_data"
    },
    {
     "data": {
      "text/plain": [
       "<Figure size 576x576 with 0 Axes>"
      ]
     },
     "metadata": {},
     "output_type": "display_data"
    },
    {
     "data": {
      "text/plain": [
       "<Figure size 576x576 with 0 Axes>"
      ]
     },
     "metadata": {},
     "output_type": "display_data"
    },
    {
     "data": {
      "text/plain": [
       "<Figure size 576x576 with 0 Axes>"
      ]
     },
     "metadata": {},
     "output_type": "display_data"
    },
    {
     "data": {
      "text/plain": [
       "<Figure size 576x576 with 0 Axes>"
      ]
     },
     "metadata": {},
     "output_type": "display_data"
    },
    {
     "data": {
      "text/plain": [
       "<Figure size 576x576 with 0 Axes>"
      ]
     },
     "metadata": {},
     "output_type": "display_data"
    },
    {
     "data": {
      "text/plain": [
       "<Figure size 576x576 with 0 Axes>"
      ]
     },
     "metadata": {},
     "output_type": "display_data"
    },
    {
     "data": {
      "text/plain": [
       "<Figure size 576x576 with 0 Axes>"
      ]
     },
     "metadata": {},
     "output_type": "display_data"
    },
    {
     "data": {
      "text/plain": [
       "<Figure size 576x576 with 0 Axes>"
      ]
     },
     "metadata": {},
     "output_type": "display_data"
    },
    {
     "data": {
      "text/plain": [
       "<Figure size 576x576 with 0 Axes>"
      ]
     },
     "metadata": {},
     "output_type": "display_data"
    },
    {
     "data": {
      "text/plain": [
       "<Figure size 576x576 with 0 Axes>"
      ]
     },
     "metadata": {},
     "output_type": "display_data"
    },
    {
     "data": {
      "text/plain": [
       "<Figure size 576x576 with 0 Axes>"
      ]
     },
     "metadata": {},
     "output_type": "display_data"
    },
    {
     "data": {
      "text/plain": [
       "<Figure size 576x576 with 0 Axes>"
      ]
     },
     "metadata": {},
     "output_type": "display_data"
    },
    {
     "data": {
      "text/plain": [
       "<Figure size 576x576 with 0 Axes>"
      ]
     },
     "metadata": {},
     "output_type": "display_data"
    },
    {
     "data": {
      "text/plain": [
       "<Figure size 576x576 with 0 Axes>"
      ]
     },
     "metadata": {},
     "output_type": "display_data"
    },
    {
     "data": {
      "text/plain": [
       "<Figure size 576x576 with 0 Axes>"
      ]
     },
     "metadata": {},
     "output_type": "display_data"
    },
    {
     "data": {
      "text/plain": [
       "<Figure size 576x576 with 0 Axes>"
      ]
     },
     "metadata": {},
     "output_type": "display_data"
    },
    {
     "data": {
      "text/plain": [
       "<Figure size 576x576 with 0 Axes>"
      ]
     },
     "metadata": {},
     "output_type": "display_data"
    },
    {
     "data": {
      "text/plain": [
       "<Figure size 576x576 with 0 Axes>"
      ]
     },
     "metadata": {},
     "output_type": "display_data"
    },
    {
     "data": {
      "text/plain": [
       "<Figure size 576x576 with 0 Axes>"
      ]
     },
     "metadata": {},
     "output_type": "display_data"
    },
    {
     "data": {
      "text/plain": [
       "<Figure size 576x576 with 0 Axes>"
      ]
     },
     "metadata": {},
     "output_type": "display_data"
    },
    {
     "data": {
      "text/plain": [
       "<Figure size 576x576 with 0 Axes>"
      ]
     },
     "metadata": {},
     "output_type": "display_data"
    },
    {
     "data": {
      "text/plain": [
       "<Figure size 576x576 with 0 Axes>"
      ]
     },
     "metadata": {},
     "output_type": "display_data"
    },
    {
     "data": {
      "text/plain": [
       "<Figure size 576x576 with 0 Axes>"
      ]
     },
     "metadata": {},
     "output_type": "display_data"
    },
    {
     "data": {
      "text/plain": [
       "<Figure size 576x576 with 0 Axes>"
      ]
     },
     "metadata": {},
     "output_type": "display_data"
    },
    {
     "data": {
      "text/plain": [
       "<Figure size 576x576 with 0 Axes>"
      ]
     },
     "metadata": {},
     "output_type": "display_data"
    },
    {
     "data": {
      "text/plain": [
       "<Figure size 576x576 with 0 Axes>"
      ]
     },
     "metadata": {},
     "output_type": "display_data"
    },
    {
     "data": {
      "text/plain": [
       "<Figure size 576x576 with 0 Axes>"
      ]
     },
     "metadata": {},
     "output_type": "display_data"
    },
    {
     "data": {
      "text/plain": [
       "<Figure size 576x576 with 0 Axes>"
      ]
     },
     "metadata": {},
     "output_type": "display_data"
    },
    {
     "data": {
      "text/plain": [
       "<Figure size 576x576 with 0 Axes>"
      ]
     },
     "metadata": {},
     "output_type": "display_data"
    },
    {
     "data": {
      "text/plain": [
       "<Figure size 576x576 with 0 Axes>"
      ]
     },
     "metadata": {},
     "output_type": "display_data"
    },
    {
     "data": {
      "text/plain": [
       "<Figure size 576x576 with 0 Axes>"
      ]
     },
     "metadata": {},
     "output_type": "display_data"
    },
    {
     "data": {
      "text/plain": [
       "<Figure size 576x576 with 0 Axes>"
      ]
     },
     "metadata": {},
     "output_type": "display_data"
    },
    {
     "data": {
      "text/plain": [
       "<Figure size 576x576 with 0 Axes>"
      ]
     },
     "metadata": {},
     "output_type": "display_data"
    },
    {
     "data": {
      "text/plain": [
       "<Figure size 576x576 with 0 Axes>"
      ]
     },
     "metadata": {},
     "output_type": "display_data"
    },
    {
     "data": {
      "text/plain": [
       "<Figure size 576x576 with 0 Axes>"
      ]
     },
     "metadata": {},
     "output_type": "display_data"
    },
    {
     "data": {
      "text/plain": [
       "<Figure size 576x576 with 0 Axes>"
      ]
     },
     "metadata": {},
     "output_type": "display_data"
    },
    {
     "data": {
      "text/plain": [
       "<Figure size 576x576 with 0 Axes>"
      ]
     },
     "metadata": {},
     "output_type": "display_data"
    },
    {
     "data": {
      "text/plain": [
       "<Figure size 576x576 with 0 Axes>"
      ]
     },
     "metadata": {},
     "output_type": "display_data"
    },
    {
     "data": {
      "text/plain": [
       "<Figure size 576x576 with 0 Axes>"
      ]
     },
     "metadata": {},
     "output_type": "display_data"
    },
    {
     "data": {
      "text/plain": [
       "<Figure size 576x576 with 0 Axes>"
      ]
     },
     "metadata": {},
     "output_type": "display_data"
    },
    {
     "data": {
      "text/plain": [
       "<Figure size 576x576 with 0 Axes>"
      ]
     },
     "metadata": {},
     "output_type": "display_data"
    },
    {
     "data": {
      "text/plain": [
       "<Figure size 576x576 with 0 Axes>"
      ]
     },
     "metadata": {},
     "output_type": "display_data"
    },
    {
     "data": {
      "text/plain": [
       "<Figure size 576x576 with 0 Axes>"
      ]
     },
     "metadata": {},
     "output_type": "display_data"
    },
    {
     "data": {
      "text/plain": [
       "<Figure size 576x576 with 0 Axes>"
      ]
     },
     "metadata": {},
     "output_type": "display_data"
    },
    {
     "data": {
      "text/plain": [
       "<Figure size 576x576 with 0 Axes>"
      ]
     },
     "metadata": {},
     "output_type": "display_data"
    },
    {
     "data": {
      "text/plain": [
       "<Figure size 576x576 with 0 Axes>"
      ]
     },
     "metadata": {},
     "output_type": "display_data"
    },
    {
     "data": {
      "text/plain": [
       "<Figure size 576x576 with 0 Axes>"
      ]
     },
     "metadata": {},
     "output_type": "display_data"
    },
    {
     "data": {
      "text/plain": [
       "<Figure size 576x576 with 0 Axes>"
      ]
     },
     "metadata": {},
     "output_type": "display_data"
    },
    {
     "data": {
      "text/plain": [
       "<Figure size 576x576 with 0 Axes>"
      ]
     },
     "metadata": {},
     "output_type": "display_data"
    },
    {
     "data": {
      "text/plain": [
       "<Figure size 576x576 with 0 Axes>"
      ]
     },
     "metadata": {},
     "output_type": "display_data"
    },
    {
     "data": {
      "text/plain": [
       "<Figure size 576x576 with 0 Axes>"
      ]
     },
     "metadata": {},
     "output_type": "display_data"
    },
    {
     "data": {
      "text/plain": [
       "<Figure size 576x576 with 0 Axes>"
      ]
     },
     "metadata": {},
     "output_type": "display_data"
    },
    {
     "data": {
      "text/plain": [
       "<Figure size 576x576 with 0 Axes>"
      ]
     },
     "metadata": {},
     "output_type": "display_data"
    },
    {
     "data": {
      "text/plain": [
       "<Figure size 576x576 with 0 Axes>"
      ]
     },
     "metadata": {},
     "output_type": "display_data"
    },
    {
     "data": {
      "text/plain": [
       "<Figure size 576x576 with 0 Axes>"
      ]
     },
     "metadata": {},
     "output_type": "display_data"
    },
    {
     "data": {
      "text/plain": [
       "<Figure size 576x576 with 0 Axes>"
      ]
     },
     "metadata": {},
     "output_type": "display_data"
    },
    {
     "data": {
      "text/plain": [
       "<Figure size 576x576 with 0 Axes>"
      ]
     },
     "metadata": {},
     "output_type": "display_data"
    },
    {
     "data": {
      "text/plain": [
       "<Figure size 576x576 with 0 Axes>"
      ]
     },
     "metadata": {},
     "output_type": "display_data"
    },
    {
     "data": {
      "text/plain": [
       "<Figure size 576x576 with 0 Axes>"
      ]
     },
     "metadata": {},
     "output_type": "display_data"
    },
    {
     "data": {
      "text/plain": [
       "<Figure size 576x576 with 0 Axes>"
      ]
     },
     "metadata": {},
     "output_type": "display_data"
    },
    {
     "data": {
      "text/plain": [
       "<Figure size 576x576 with 0 Axes>"
      ]
     },
     "metadata": {},
     "output_type": "display_data"
    },
    {
     "data": {
      "text/plain": [
       "<Figure size 576x576 with 0 Axes>"
      ]
     },
     "metadata": {},
     "output_type": "display_data"
    },
    {
     "data": {
      "text/plain": [
       "<Figure size 576x576 with 0 Axes>"
      ]
     },
     "metadata": {},
     "output_type": "display_data"
    },
    {
     "data": {
      "text/plain": [
       "<Figure size 576x576 with 0 Axes>"
      ]
     },
     "metadata": {},
     "output_type": "display_data"
    },
    {
     "data": {
      "text/plain": [
       "<Figure size 576x576 with 0 Axes>"
      ]
     },
     "metadata": {},
     "output_type": "display_data"
    },
    {
     "data": {
      "text/plain": [
       "<Figure size 576x576 with 0 Axes>"
      ]
     },
     "metadata": {},
     "output_type": "display_data"
    },
    {
     "data": {
      "text/plain": [
       "<Figure size 576x576 with 0 Axes>"
      ]
     },
     "metadata": {},
     "output_type": "display_data"
    },
    {
     "data": {
      "text/plain": [
       "<Figure size 576x576 with 0 Axes>"
      ]
     },
     "metadata": {},
     "output_type": "display_data"
    },
    {
     "data": {
      "text/plain": [
       "<Figure size 576x576 with 0 Axes>"
      ]
     },
     "metadata": {},
     "output_type": "display_data"
    },
    {
     "data": {
      "text/plain": [
       "<Figure size 576x576 with 0 Axes>"
      ]
     },
     "metadata": {},
     "output_type": "display_data"
    },
    {
     "data": {
      "text/plain": [
       "<Figure size 576x576 with 0 Axes>"
      ]
     },
     "metadata": {},
     "output_type": "display_data"
    },
    {
     "data": {
      "text/plain": [
       "<Figure size 576x576 with 0 Axes>"
      ]
     },
     "metadata": {},
     "output_type": "display_data"
    },
    {
     "data": {
      "text/plain": [
       "<Figure size 576x576 with 0 Axes>"
      ]
     },
     "metadata": {},
     "output_type": "display_data"
    },
    {
     "data": {
      "text/plain": [
       "<Figure size 576x576 with 0 Axes>"
      ]
     },
     "metadata": {},
     "output_type": "display_data"
    },
    {
     "data": {
      "text/plain": [
       "<Figure size 576x576 with 0 Axes>"
      ]
     },
     "metadata": {},
     "output_type": "display_data"
    },
    {
     "data": {
      "text/plain": [
       "<Figure size 576x576 with 0 Axes>"
      ]
     },
     "metadata": {},
     "output_type": "display_data"
    },
    {
     "data": {
      "text/plain": [
       "<Figure size 576x576 with 0 Axes>"
      ]
     },
     "metadata": {},
     "output_type": "display_data"
    },
    {
     "data": {
      "text/plain": [
       "<Figure size 576x576 with 0 Axes>"
      ]
     },
     "metadata": {},
     "output_type": "display_data"
    },
    {
     "data": {
      "text/plain": [
       "<Figure size 576x576 with 0 Axes>"
      ]
     },
     "metadata": {},
     "output_type": "display_data"
    },
    {
     "data": {
      "text/plain": [
       "<Figure size 576x576 with 0 Axes>"
      ]
     },
     "metadata": {},
     "output_type": "display_data"
    },
    {
     "data": {
      "text/plain": [
       "<Figure size 576x576 with 0 Axes>"
      ]
     },
     "metadata": {},
     "output_type": "display_data"
    },
    {
     "data": {
      "text/plain": [
       "<Figure size 576x576 with 0 Axes>"
      ]
     },
     "metadata": {},
     "output_type": "display_data"
    },
    {
     "data": {
      "text/plain": [
       "<Figure size 576x576 with 0 Axes>"
      ]
     },
     "metadata": {},
     "output_type": "display_data"
    },
    {
     "data": {
      "text/plain": [
       "<Figure size 576x576 with 0 Axes>"
      ]
     },
     "metadata": {},
     "output_type": "display_data"
    },
    {
     "data": {
      "text/plain": [
       "<Figure size 576x576 with 0 Axes>"
      ]
     },
     "metadata": {},
     "output_type": "display_data"
    },
    {
     "data": {
      "text/plain": [
       "<Figure size 576x576 with 0 Axes>"
      ]
     },
     "metadata": {},
     "output_type": "display_data"
    },
    {
     "data": {
      "text/plain": [
       "<Figure size 576x576 with 0 Axes>"
      ]
     },
     "metadata": {},
     "output_type": "display_data"
    },
    {
     "data": {
      "text/plain": [
       "<Figure size 576x576 with 0 Axes>"
      ]
     },
     "metadata": {},
     "output_type": "display_data"
    },
    {
     "data": {
      "text/plain": [
       "<Figure size 576x576 with 0 Axes>"
      ]
     },
     "metadata": {},
     "output_type": "display_data"
    },
    {
     "data": {
      "text/plain": [
       "<Figure size 576x576 with 0 Axes>"
      ]
     },
     "metadata": {},
     "output_type": "display_data"
    },
    {
     "data": {
      "text/plain": [
       "<Figure size 576x576 with 0 Axes>"
      ]
     },
     "metadata": {},
     "output_type": "display_data"
    },
    {
     "data": {
      "text/plain": [
       "<Figure size 576x576 with 0 Axes>"
      ]
     },
     "metadata": {},
     "output_type": "display_data"
    },
    {
     "data": {
      "text/plain": [
       "<Figure size 576x576 with 0 Axes>"
      ]
     },
     "metadata": {},
     "output_type": "display_data"
    },
    {
     "data": {
      "text/plain": [
       "<Figure size 576x576 with 0 Axes>"
      ]
     },
     "metadata": {},
     "output_type": "display_data"
    },
    {
     "data": {
      "text/plain": [
       "<Figure size 576x576 with 0 Axes>"
      ]
     },
     "metadata": {},
     "output_type": "display_data"
    },
    {
     "data": {
      "text/plain": [
       "<Figure size 576x576 with 0 Axes>"
      ]
     },
     "metadata": {},
     "output_type": "display_data"
    },
    {
     "data": {
      "text/plain": [
       "<Figure size 576x576 with 0 Axes>"
      ]
     },
     "metadata": {},
     "output_type": "display_data"
    },
    {
     "data": {
      "text/plain": [
       "<Figure size 576x576 with 0 Axes>"
      ]
     },
     "metadata": {},
     "output_type": "display_data"
    },
    {
     "data": {
      "text/plain": [
       "<Figure size 576x576 with 0 Axes>"
      ]
     },
     "metadata": {},
     "output_type": "display_data"
    },
    {
     "data": {
      "text/plain": [
       "<Figure size 576x576 with 0 Axes>"
      ]
     },
     "metadata": {},
     "output_type": "display_data"
    },
    {
     "data": {
      "text/plain": [
       "<Figure size 576x576 with 0 Axes>"
      ]
     },
     "metadata": {},
     "output_type": "display_data"
    },
    {
     "data": {
      "text/plain": [
       "<Figure size 576x576 with 0 Axes>"
      ]
     },
     "metadata": {},
     "output_type": "display_data"
    },
    {
     "data": {
      "text/plain": [
       "<Figure size 576x576 with 0 Axes>"
      ]
     },
     "metadata": {},
     "output_type": "display_data"
    },
    {
     "data": {
      "text/plain": [
       "<Figure size 576x576 with 0 Axes>"
      ]
     },
     "metadata": {},
     "output_type": "display_data"
    },
    {
     "data": {
      "text/plain": [
       "<Figure size 576x576 with 0 Axes>"
      ]
     },
     "metadata": {},
     "output_type": "display_data"
    },
    {
     "data": {
      "text/plain": [
       "<Figure size 576x576 with 0 Axes>"
      ]
     },
     "metadata": {},
     "output_type": "display_data"
    },
    {
     "data": {
      "text/plain": [
       "<Figure size 576x576 with 0 Axes>"
      ]
     },
     "metadata": {},
     "output_type": "display_data"
    },
    {
     "data": {
      "text/plain": [
       "<Figure size 576x576 with 0 Axes>"
      ]
     },
     "metadata": {},
     "output_type": "display_data"
    },
    {
     "data": {
      "text/plain": [
       "<Figure size 576x576 with 0 Axes>"
      ]
     },
     "metadata": {},
     "output_type": "display_data"
    },
    {
     "data": {
      "text/plain": [
       "<Figure size 576x576 with 0 Axes>"
      ]
     },
     "metadata": {},
     "output_type": "display_data"
    },
    {
     "data": {
      "text/plain": [
       "<Figure size 576x576 with 0 Axes>"
      ]
     },
     "metadata": {},
     "output_type": "display_data"
    },
    {
     "data": {
      "text/plain": [
       "<Figure size 576x576 with 0 Axes>"
      ]
     },
     "metadata": {},
     "output_type": "display_data"
    },
    {
     "data": {
      "text/plain": [
       "<Figure size 576x576 with 0 Axes>"
      ]
     },
     "metadata": {},
     "output_type": "display_data"
    },
    {
     "data": {
      "text/plain": [
       "<Figure size 576x576 with 0 Axes>"
      ]
     },
     "metadata": {},
     "output_type": "display_data"
    },
    {
     "data": {
      "text/plain": [
       "<Figure size 576x576 with 0 Axes>"
      ]
     },
     "metadata": {},
     "output_type": "display_data"
    },
    {
     "data": {
      "text/plain": [
       "<Figure size 576x576 with 0 Axes>"
      ]
     },
     "metadata": {},
     "output_type": "display_data"
    },
    {
     "data": {
      "text/plain": [
       "<Figure size 576x576 with 0 Axes>"
      ]
     },
     "metadata": {},
     "output_type": "display_data"
    },
    {
     "data": {
      "text/plain": [
       "<Figure size 576x576 with 0 Axes>"
      ]
     },
     "metadata": {},
     "output_type": "display_data"
    },
    {
     "data": {
      "text/plain": [
       "<Figure size 576x576 with 0 Axes>"
      ]
     },
     "metadata": {},
     "output_type": "display_data"
    },
    {
     "data": {
      "text/plain": [
       "<Figure size 576x576 with 0 Axes>"
      ]
     },
     "metadata": {},
     "output_type": "display_data"
    },
    {
     "data": {
      "text/plain": [
       "<Figure size 576x576 with 0 Axes>"
      ]
     },
     "metadata": {},
     "output_type": "display_data"
    },
    {
     "data": {
      "text/plain": [
       "<Figure size 576x576 with 0 Axes>"
      ]
     },
     "metadata": {},
     "output_type": "display_data"
    },
    {
     "data": {
      "text/plain": [
       "<Figure size 576x576 with 0 Axes>"
      ]
     },
     "metadata": {},
     "output_type": "display_data"
    },
    {
     "data": {
      "text/plain": [
       "<Figure size 576x576 with 0 Axes>"
      ]
     },
     "metadata": {},
     "output_type": "display_data"
    },
    {
     "data": {
      "text/plain": [
       "<Figure size 576x576 with 0 Axes>"
      ]
     },
     "metadata": {},
     "output_type": "display_data"
    },
    {
     "data": {
      "text/plain": [
       "<Figure size 576x576 with 0 Axes>"
      ]
     },
     "metadata": {},
     "output_type": "display_data"
    },
    {
     "data": {
      "text/plain": [
       "<Figure size 576x576 with 0 Axes>"
      ]
     },
     "metadata": {},
     "output_type": "display_data"
    },
    {
     "data": {
      "text/plain": [
       "<Figure size 576x576 with 0 Axes>"
      ]
     },
     "metadata": {},
     "output_type": "display_data"
    },
    {
     "data": {
      "text/plain": [
       "<Figure size 576x576 with 0 Axes>"
      ]
     },
     "metadata": {},
     "output_type": "display_data"
    },
    {
     "data": {
      "text/plain": [
       "<Figure size 576x576 with 0 Axes>"
      ]
     },
     "metadata": {},
     "output_type": "display_data"
    },
    {
     "data": {
      "text/plain": [
       "<Figure size 576x576 with 0 Axes>"
      ]
     },
     "metadata": {},
     "output_type": "display_data"
    },
    {
     "data": {
      "text/plain": [
       "<Figure size 576x576 with 0 Axes>"
      ]
     },
     "metadata": {},
     "output_type": "display_data"
    },
    {
     "data": {
      "text/plain": [
       "<Figure size 576x576 with 0 Axes>"
      ]
     },
     "metadata": {},
     "output_type": "display_data"
    },
    {
     "data": {
      "text/plain": [
       "<Figure size 576x576 with 0 Axes>"
      ]
     },
     "metadata": {},
     "output_type": "display_data"
    },
    {
     "data": {
      "text/plain": [
       "<Figure size 576x576 with 0 Axes>"
      ]
     },
     "metadata": {},
     "output_type": "display_data"
    },
    {
     "data": {
      "text/plain": [
       "<Figure size 576x576 with 0 Axes>"
      ]
     },
     "metadata": {},
     "output_type": "display_data"
    },
    {
     "data": {
      "text/plain": [
       "<Figure size 576x576 with 0 Axes>"
      ]
     },
     "metadata": {},
     "output_type": "display_data"
    },
    {
     "data": {
      "text/plain": [
       "<Figure size 576x576 with 0 Axes>"
      ]
     },
     "metadata": {},
     "output_type": "display_data"
    },
    {
     "data": {
      "text/plain": [
       "<Figure size 576x576 with 0 Axes>"
      ]
     },
     "metadata": {},
     "output_type": "display_data"
    },
    {
     "data": {
      "text/plain": [
       "<Figure size 576x576 with 0 Axes>"
      ]
     },
     "metadata": {},
     "output_type": "display_data"
    },
    {
     "data": {
      "text/plain": [
       "<Figure size 576x576 with 0 Axes>"
      ]
     },
     "metadata": {},
     "output_type": "display_data"
    },
    {
     "data": {
      "text/plain": [
       "<Figure size 576x576 with 0 Axes>"
      ]
     },
     "metadata": {},
     "output_type": "display_data"
    },
    {
     "data": {
      "text/plain": [
       "<Figure size 576x576 with 0 Axes>"
      ]
     },
     "metadata": {},
     "output_type": "display_data"
    },
    {
     "data": {
      "text/plain": [
       "<Figure size 576x576 with 0 Axes>"
      ]
     },
     "metadata": {},
     "output_type": "display_data"
    },
    {
     "data": {
      "text/plain": [
       "<Figure size 576x576 with 0 Axes>"
      ]
     },
     "metadata": {},
     "output_type": "display_data"
    },
    {
     "data": {
      "text/plain": [
       "<Figure size 576x576 with 0 Axes>"
      ]
     },
     "metadata": {},
     "output_type": "display_data"
    },
    {
     "data": {
      "text/plain": [
       "<Figure size 576x576 with 0 Axes>"
      ]
     },
     "metadata": {},
     "output_type": "display_data"
    },
    {
     "data": {
      "text/plain": [
       "<Figure size 576x576 with 0 Axes>"
      ]
     },
     "metadata": {},
     "output_type": "display_data"
    },
    {
     "data": {
      "text/plain": [
       "<Figure size 576x576 with 0 Axes>"
      ]
     },
     "metadata": {},
     "output_type": "display_data"
    },
    {
     "data": {
      "text/plain": [
       "<Figure size 576x576 with 0 Axes>"
      ]
     },
     "metadata": {},
     "output_type": "display_data"
    },
    {
     "data": {
      "text/plain": [
       "<Figure size 576x576 with 0 Axes>"
      ]
     },
     "metadata": {},
     "output_type": "display_data"
    },
    {
     "data": {
      "text/plain": [
       "<Figure size 576x576 with 0 Axes>"
      ]
     },
     "metadata": {},
     "output_type": "display_data"
    },
    {
     "data": {
      "text/plain": [
       "<Figure size 576x576 with 0 Axes>"
      ]
     },
     "metadata": {},
     "output_type": "display_data"
    },
    {
     "data": {
      "text/plain": [
       "<Figure size 576x576 with 0 Axes>"
      ]
     },
     "metadata": {},
     "output_type": "display_data"
    },
    {
     "data": {
      "text/plain": [
       "<Figure size 576x576 with 0 Axes>"
      ]
     },
     "metadata": {},
     "output_type": "display_data"
    },
    {
     "data": {
      "text/plain": [
       "<Figure size 576x576 with 0 Axes>"
      ]
     },
     "metadata": {},
     "output_type": "display_data"
    },
    {
     "data": {
      "text/plain": [
       "<Figure size 576x576 with 0 Axes>"
      ]
     },
     "metadata": {},
     "output_type": "display_data"
    },
    {
     "data": {
      "text/plain": [
       "<Figure size 576x576 with 0 Axes>"
      ]
     },
     "metadata": {},
     "output_type": "display_data"
    },
    {
     "data": {
      "text/plain": [
       "<Figure size 576x576 with 0 Axes>"
      ]
     },
     "metadata": {},
     "output_type": "display_data"
    },
    {
     "data": {
      "text/plain": [
       "<Figure size 576x576 with 0 Axes>"
      ]
     },
     "metadata": {},
     "output_type": "display_data"
    },
    {
     "data": {
      "text/plain": [
       "<Figure size 576x576 with 0 Axes>"
      ]
     },
     "metadata": {},
     "output_type": "display_data"
    },
    {
     "data": {
      "text/plain": [
       "<Figure size 576x576 with 0 Axes>"
      ]
     },
     "metadata": {},
     "output_type": "display_data"
    },
    {
     "data": {
      "text/plain": [
       "<Figure size 576x576 with 0 Axes>"
      ]
     },
     "metadata": {},
     "output_type": "display_data"
    },
    {
     "data": {
      "text/plain": [
       "<Figure size 576x576 with 0 Axes>"
      ]
     },
     "metadata": {},
     "output_type": "display_data"
    },
    {
     "data": {
      "text/plain": [
       "<Figure size 576x576 with 0 Axes>"
      ]
     },
     "metadata": {},
     "output_type": "display_data"
    },
    {
     "data": {
      "text/plain": [
       "<Figure size 576x576 with 0 Axes>"
      ]
     },
     "metadata": {},
     "output_type": "display_data"
    },
    {
     "data": {
      "text/plain": [
       "<Figure size 576x576 with 0 Axes>"
      ]
     },
     "metadata": {},
     "output_type": "display_data"
    },
    {
     "data": {
      "text/plain": [
       "<Figure size 576x576 with 0 Axes>"
      ]
     },
     "metadata": {},
     "output_type": "display_data"
    },
    {
     "data": {
      "text/plain": [
       "<Figure size 576x576 with 0 Axes>"
      ]
     },
     "metadata": {},
     "output_type": "display_data"
    },
    {
     "data": {
      "text/plain": [
       "<Figure size 576x576 with 0 Axes>"
      ]
     },
     "metadata": {},
     "output_type": "display_data"
    },
    {
     "data": {
      "text/plain": [
       "<Figure size 576x576 with 0 Axes>"
      ]
     },
     "metadata": {},
     "output_type": "display_data"
    },
    {
     "data": {
      "text/plain": [
       "<Figure size 576x576 with 0 Axes>"
      ]
     },
     "metadata": {},
     "output_type": "display_data"
    },
    {
     "data": {
      "text/plain": [
       "<Figure size 576x576 with 0 Axes>"
      ]
     },
     "metadata": {},
     "output_type": "display_data"
    },
    {
     "data": {
      "text/plain": [
       "<Figure size 576x576 with 0 Axes>"
      ]
     },
     "metadata": {},
     "output_type": "display_data"
    },
    {
     "data": {
      "text/plain": [
       "<Figure size 576x576 with 0 Axes>"
      ]
     },
     "metadata": {},
     "output_type": "display_data"
    },
    {
     "data": {
      "text/plain": [
       "<Figure size 576x576 with 0 Axes>"
      ]
     },
     "metadata": {},
     "output_type": "display_data"
    },
    {
     "data": {
      "text/plain": [
       "<Figure size 576x576 with 0 Axes>"
      ]
     },
     "metadata": {},
     "output_type": "display_data"
    },
    {
     "data": {
      "text/plain": [
       "<Figure size 576x576 with 0 Axes>"
      ]
     },
     "metadata": {},
     "output_type": "display_data"
    },
    {
     "data": {
      "text/plain": [
       "<Figure size 576x576 with 0 Axes>"
      ]
     },
     "metadata": {},
     "output_type": "display_data"
    },
    {
     "data": {
      "text/plain": [
       "<Figure size 576x576 with 0 Axes>"
      ]
     },
     "metadata": {},
     "output_type": "display_data"
    },
    {
     "data": {
      "text/plain": [
       "<Figure size 576x576 with 0 Axes>"
      ]
     },
     "metadata": {},
     "output_type": "display_data"
    },
    {
     "data": {
      "text/plain": [
       "<Figure size 576x576 with 0 Axes>"
      ]
     },
     "metadata": {},
     "output_type": "display_data"
    },
    {
     "data": {
      "text/plain": [
       "<Figure size 576x576 with 0 Axes>"
      ]
     },
     "metadata": {},
     "output_type": "display_data"
    },
    {
     "data": {
      "text/plain": [
       "<Figure size 576x576 with 0 Axes>"
      ]
     },
     "metadata": {},
     "output_type": "display_data"
    },
    {
     "data": {
      "text/plain": [
       "<Figure size 576x576 with 0 Axes>"
      ]
     },
     "metadata": {},
     "output_type": "display_data"
    },
    {
     "data": {
      "text/plain": [
       "<Figure size 576x576 with 0 Axes>"
      ]
     },
     "metadata": {},
     "output_type": "display_data"
    },
    {
     "data": {
      "text/plain": [
       "<Figure size 576x576 with 0 Axes>"
      ]
     },
     "metadata": {},
     "output_type": "display_data"
    },
    {
     "data": {
      "text/plain": [
       "<Figure size 576x576 with 0 Axes>"
      ]
     },
     "metadata": {},
     "output_type": "display_data"
    },
    {
     "data": {
      "text/plain": [
       "<Figure size 576x576 with 0 Axes>"
      ]
     },
     "metadata": {},
     "output_type": "display_data"
    },
    {
     "data": {
      "text/plain": [
       "<Figure size 576x576 with 0 Axes>"
      ]
     },
     "metadata": {},
     "output_type": "display_data"
    },
    {
     "data": {
      "text/plain": [
       "<Figure size 576x576 with 0 Axes>"
      ]
     },
     "metadata": {},
     "output_type": "display_data"
    },
    {
     "data": {
      "text/plain": [
       "<Figure size 576x576 with 0 Axes>"
      ]
     },
     "metadata": {},
     "output_type": "display_data"
    },
    {
     "data": {
      "text/plain": [
       "<Figure size 576x576 with 0 Axes>"
      ]
     },
     "metadata": {},
     "output_type": "display_data"
    },
    {
     "data": {
      "text/plain": [
       "<Figure size 576x576 with 0 Axes>"
      ]
     },
     "metadata": {},
     "output_type": "display_data"
    },
    {
     "data": {
      "text/plain": [
       "<Figure size 576x576 with 0 Axes>"
      ]
     },
     "metadata": {},
     "output_type": "display_data"
    },
    {
     "data": {
      "text/plain": [
       "<Figure size 576x576 with 0 Axes>"
      ]
     },
     "metadata": {},
     "output_type": "display_data"
    },
    {
     "data": {
      "text/plain": [
       "<Figure size 576x576 with 0 Axes>"
      ]
     },
     "metadata": {},
     "output_type": "display_data"
    },
    {
     "data": {
      "text/plain": [
       "<Figure size 576x576 with 0 Axes>"
      ]
     },
     "metadata": {},
     "output_type": "display_data"
    },
    {
     "data": {
      "text/plain": [
       "<Figure size 576x576 with 0 Axes>"
      ]
     },
     "metadata": {},
     "output_type": "display_data"
    },
    {
     "data": {
      "text/plain": [
       "<Figure size 576x576 with 0 Axes>"
      ]
     },
     "metadata": {},
     "output_type": "display_data"
    },
    {
     "data": {
      "text/plain": [
       "<Figure size 576x576 with 0 Axes>"
      ]
     },
     "metadata": {},
     "output_type": "display_data"
    },
    {
     "data": {
      "text/plain": [
       "<Figure size 576x576 with 0 Axes>"
      ]
     },
     "metadata": {},
     "output_type": "display_data"
    },
    {
     "data": {
      "text/plain": [
       "<Figure size 576x576 with 0 Axes>"
      ]
     },
     "metadata": {},
     "output_type": "display_data"
    },
    {
     "data": {
      "text/plain": [
       "<Figure size 576x576 with 0 Axes>"
      ]
     },
     "metadata": {},
     "output_type": "display_data"
    },
    {
     "data": {
      "text/plain": [
       "<Figure size 576x576 with 0 Axes>"
      ]
     },
     "metadata": {},
     "output_type": "display_data"
    },
    {
     "data": {
      "text/plain": [
       "<Figure size 576x576 with 0 Axes>"
      ]
     },
     "metadata": {},
     "output_type": "display_data"
    },
    {
     "data": {
      "text/plain": [
       "<Figure size 576x576 with 0 Axes>"
      ]
     },
     "metadata": {},
     "output_type": "display_data"
    },
    {
     "data": {
      "text/plain": [
       "<Figure size 576x576 with 0 Axes>"
      ]
     },
     "metadata": {},
     "output_type": "display_data"
    },
    {
     "data": {
      "text/plain": [
       "<Figure size 576x576 with 0 Axes>"
      ]
     },
     "metadata": {},
     "output_type": "display_data"
    },
    {
     "data": {
      "text/plain": [
       "<Figure size 576x576 with 0 Axes>"
      ]
     },
     "metadata": {},
     "output_type": "display_data"
    },
    {
     "data": {
      "text/plain": [
       "<Figure size 576x576 with 0 Axes>"
      ]
     },
     "metadata": {},
     "output_type": "display_data"
    },
    {
     "data": {
      "text/plain": [
       "<Figure size 576x576 with 0 Axes>"
      ]
     },
     "metadata": {},
     "output_type": "display_data"
    },
    {
     "data": {
      "text/plain": [
       "<Figure size 576x576 with 0 Axes>"
      ]
     },
     "metadata": {},
     "output_type": "display_data"
    },
    {
     "data": {
      "text/plain": [
       "<Figure size 576x576 with 0 Axes>"
      ]
     },
     "metadata": {},
     "output_type": "display_data"
    },
    {
     "data": {
      "text/plain": [
       "<Figure size 576x576 with 0 Axes>"
      ]
     },
     "metadata": {},
     "output_type": "display_data"
    },
    {
     "data": {
      "text/plain": [
       "<Figure size 576x576 with 0 Axes>"
      ]
     },
     "metadata": {},
     "output_type": "display_data"
    },
    {
     "data": {
      "text/plain": [
       "<Figure size 576x576 with 0 Axes>"
      ]
     },
     "metadata": {},
     "output_type": "display_data"
    },
    {
     "data": {
      "text/plain": [
       "<Figure size 576x576 with 0 Axes>"
      ]
     },
     "metadata": {},
     "output_type": "display_data"
    },
    {
     "data": {
      "text/plain": [
       "<Figure size 576x576 with 0 Axes>"
      ]
     },
     "metadata": {},
     "output_type": "display_data"
    },
    {
     "data": {
      "text/plain": [
       "<Figure size 576x576 with 0 Axes>"
      ]
     },
     "metadata": {},
     "output_type": "display_data"
    },
    {
     "data": {
      "text/plain": [
       "<Figure size 576x576 with 0 Axes>"
      ]
     },
     "metadata": {},
     "output_type": "display_data"
    },
    {
     "data": {
      "text/plain": [
       "<Figure size 576x576 with 0 Axes>"
      ]
     },
     "metadata": {},
     "output_type": "display_data"
    },
    {
     "data": {
      "text/plain": [
       "<Figure size 576x576 with 0 Axes>"
      ]
     },
     "metadata": {},
     "output_type": "display_data"
    },
    {
     "data": {
      "text/plain": [
       "<Figure size 576x576 with 0 Axes>"
      ]
     },
     "metadata": {},
     "output_type": "display_data"
    },
    {
     "data": {
      "text/plain": [
       "<Figure size 576x576 with 0 Axes>"
      ]
     },
     "metadata": {},
     "output_type": "display_data"
    },
    {
     "data": {
      "text/plain": [
       "<Figure size 576x576 with 0 Axes>"
      ]
     },
     "metadata": {},
     "output_type": "display_data"
    },
    {
     "data": {
      "text/plain": [
       "<Figure size 576x576 with 0 Axes>"
      ]
     },
     "metadata": {},
     "output_type": "display_data"
    },
    {
     "data": {
      "text/plain": [
       "<Figure size 576x576 with 0 Axes>"
      ]
     },
     "metadata": {},
     "output_type": "display_data"
    },
    {
     "data": {
      "text/plain": [
       "<Figure size 576x576 with 0 Axes>"
      ]
     },
     "metadata": {},
     "output_type": "display_data"
    },
    {
     "data": {
      "text/plain": [
       "<Figure size 576x576 with 0 Axes>"
      ]
     },
     "metadata": {},
     "output_type": "display_data"
    },
    {
     "data": {
      "text/plain": [
       "<Figure size 576x576 with 0 Axes>"
      ]
     },
     "metadata": {},
     "output_type": "display_data"
    },
    {
     "data": {
      "text/plain": [
       "<Figure size 576x576 with 0 Axes>"
      ]
     },
     "metadata": {},
     "output_type": "display_data"
    },
    {
     "data": {
      "text/plain": [
       "<Figure size 576x576 with 0 Axes>"
      ]
     },
     "metadata": {},
     "output_type": "display_data"
    },
    {
     "data": {
      "text/plain": [
       "<Figure size 576x576 with 0 Axes>"
      ]
     },
     "metadata": {},
     "output_type": "display_data"
    },
    {
     "data": {
      "text/plain": [
       "<Figure size 576x576 with 0 Axes>"
      ]
     },
     "metadata": {},
     "output_type": "display_data"
    },
    {
     "data": {
      "text/plain": [
       "<Figure size 576x576 with 0 Axes>"
      ]
     },
     "metadata": {},
     "output_type": "display_data"
    },
    {
     "data": {
      "text/plain": [
       "<Figure size 576x576 with 0 Axes>"
      ]
     },
     "metadata": {},
     "output_type": "display_data"
    },
    {
     "data": {
      "text/plain": [
       "<Figure size 576x576 with 0 Axes>"
      ]
     },
     "metadata": {},
     "output_type": "display_data"
    },
    {
     "data": {
      "text/plain": [
       "<Figure size 576x576 with 0 Axes>"
      ]
     },
     "metadata": {},
     "output_type": "display_data"
    },
    {
     "data": {
      "text/plain": [
       "<Figure size 576x576 with 0 Axes>"
      ]
     },
     "metadata": {},
     "output_type": "display_data"
    },
    {
     "data": {
      "text/plain": [
       "<Figure size 576x576 with 0 Axes>"
      ]
     },
     "metadata": {},
     "output_type": "display_data"
    },
    {
     "data": {
      "text/plain": [
       "<Figure size 576x576 with 0 Axes>"
      ]
     },
     "metadata": {},
     "output_type": "display_data"
    },
    {
     "data": {
      "text/plain": [
       "<Figure size 576x576 with 0 Axes>"
      ]
     },
     "metadata": {},
     "output_type": "display_data"
    },
    {
     "data": {
      "text/plain": [
       "<Figure size 576x576 with 0 Axes>"
      ]
     },
     "metadata": {},
     "output_type": "display_data"
    },
    {
     "data": {
      "text/plain": [
       "<Figure size 576x576 with 0 Axes>"
      ]
     },
     "metadata": {},
     "output_type": "display_data"
    },
    {
     "data": {
      "text/plain": [
       "<Figure size 576x576 with 0 Axes>"
      ]
     },
     "metadata": {},
     "output_type": "display_data"
    },
    {
     "data": {
      "text/plain": [
       "<Figure size 576x576 with 0 Axes>"
      ]
     },
     "metadata": {},
     "output_type": "display_data"
    },
    {
     "data": {
      "text/plain": [
       "<Figure size 576x576 with 0 Axes>"
      ]
     },
     "metadata": {},
     "output_type": "display_data"
    },
    {
     "data": {
      "text/plain": [
       "<Figure size 576x576 with 0 Axes>"
      ]
     },
     "metadata": {},
     "output_type": "display_data"
    }
   ],
   "source": [
    "from mpl_toolkits.mplot3d import axes3d\n",
    "import matplotlib.pyplot as plt\n",
    "\n",
    "fig = plt.figure()\n",
    "ax = fig.add_subplot(111, projection='3d')\n",
    "\n",
    "# load some test data for demonstration and plot a wireframe\n",
    "X, Y, Z = axes3d.get_test_data(0.1)\n",
    "ax.plot_wireframe(X, Y, Z, rstride=5, cstride=5)\n",
    "\n",
    "# rotate the axes and update\n",
    "for angle in range(0, 360):\n",
    "    ax.view_init(30, angle)\n",
    "    plt.draw()\n",
    "    plt.pause(.001)\n"
   ]
  }
 ],
 "metadata": {
  "kernelspec": {
   "display_name": "webscraping",
   "language": "python",
   "name": "webscraping"
  },
  "language_info": {
   "codemirror_mode": {
    "name": "ipython",
    "version": 3
   },
   "file_extension": ".py",
   "mimetype": "text/x-python",
   "name": "python",
   "nbconvert_exporter": "python",
   "pygments_lexer": "ipython3",
   "version": "3.8.3"
  }
 },
 "nbformat": 4,
 "nbformat_minor": 4
}
