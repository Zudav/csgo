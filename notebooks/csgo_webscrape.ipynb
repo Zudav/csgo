{
 "cells": [
  {
   "cell_type": "code",
   "execution_count": 9,
   "metadata": {},
   "outputs": [],
   "source": [
    "from bs4 import BeautifulSoup\n",
    "import requests\n",
    "import pandas as pd\n",
    "import numpy as np\n",
    "from datetime import datetime, timedelta\n",
    "from pathlib import Path\n",
    "import sys"
   ]
  },
  {
   "cell_type": "code",
   "execution_count": 13,
   "metadata": {},
   "outputs": [
    {
     "name": "stdout",
     "output_type": "stream",
     "text": [
      "Loaded ID file from C:\\Users\\noser\\Documents\\Python\\CSGO_webscraping\\data\\team_IDs.csv\n"
     ]
    }
   ],
   "source": [
    "# Loading ID file\n",
    "# Relative file path for ID file\n",
    "file_relative = r\"../data/team_IDs.csv\"\n",
    "\n",
    "try:\n",
    "    # Check if ID file exists\n",
    "    file = Path(file_relative).resolve(strict=True)\n",
    "except FileNotFoundError:\n",
    "    # doesn't exist\n",
    "    print(\"Could not find file {}\".format(Path(file_relative).resolve(strict=False)))\n",
    "    sys.exit(1)\n",
    "else:\n",
    "    # Load list with team names and corresponding IDs\n",
    "    df_team_ids = pd.read_csv(file, index_col=\"Name\")\n",
    "    print(\"Loaded ID file from {}\".format(Path(file_relative).resolve()))"
   ]
  },
  {
   "cell_type": "code",
   "execution_count": 3,
   "metadata": {},
   "outputs": [],
   "source": [
    "# Function definitions\n",
    "def get_team_id(team):\n",
    "    # Use entered team name to get ID\n",
    "    team_id = df_team_ids.loc[team.lower(), \"ID\"]\n",
    "    return team_id\n",
    "\n",
    "\n",
    "def current_rank(team):\n",
    "    print(\"Getting current rank for {}\".format(team))\n",
    "    # Turn name into lowercase characters only\n",
    "    team = team.lower()\n",
    "    \n",
    "    # Use entered team name to get ID\n",
    "    team_id = get_team_id(team)\n",
    "    \n",
    "    # Turn spaces into dashes\n",
    "    team_name = team.split()\n",
    "    team_name = \"-\".join(team_name)\n",
    "    \n",
    "    # Get current ranking of team\n",
    "    team_profile = requests.get(\"https://www.hltv.org/team/{}/{}\".format(team_id, team_name)).text\n",
    "    team_profile_soup = BeautifulSoup(team_profile, \"lxml\")\n",
    "    team_stats = team_profile_soup.find(\"div\", class_=\"profile-team-stat\")\n",
    "    if len(team_stats.span.text) > 1:\n",
    "        current_rank = team_stats.span.text[1:] # get rid of \"#\" by skipping char at index 0\n",
    "    else: # if len <= 1 it means the team is unranked\n",
    "        current_rank = float(\"NaN\")\n",
    "    \n",
    "    return current_rank"
   ]
  },
  {
   "cell_type": "code",
   "execution_count": 4,
   "metadata": {},
   "outputs": [
    {
     "name": "stdout",
     "output_type": "stream",
     "text": [
      "Team Name: natus vincere\n",
      "Timeframe in days: 100\n",
      "Getting current rank for natus vincere\n"
     ]
    }
   ],
   "source": [
    "# Ask user for team name (not case sensitive)\n",
    "while True:    \n",
    "    try:\n",
    "        entered_name = input(\"\\nTeam Name: \")\n",
    "        team_id = get_team_id(entered_name)\n",
    "        \n",
    "    except KeyError:\n",
    "        print(\"Unable to find '{}' in team ID list\".format(entered_name))\n",
    "    \n",
    "    else:\n",
    "        break\n",
    "\n",
    "# Ask for time frame in number of days into the past\n",
    "while True:\n",
    "    try:\n",
    "        delta = int(input(\"Timeframe in days: \"))\n",
    "    except ValueError:\n",
    "        print(\"Please enter an integer number, eg '100' (w/o quotation marks) for 100 days\")\n",
    "    else:\n",
    "        start_date = (datetime.now()- timedelta(days=delta)).date()\n",
    "        break\n",
    "\n",
    "# Save current date as end date and get current team rank\n",
    "end_date = datetime.now().date()\n",
    "team_rnk_now = current_rank(entered_name)"
   ]
  },
  {
   "cell_type": "code",
   "execution_count": 5,
   "metadata": {},
   "outputs": [
    {
     "name": "stdout",
     "output_type": "stream",
     "text": [
      "Requesting url \n",
      "https://www.hltv.org/stats/teams/matches/4608/natus vincere?startDate=2020-02-19&endDate=2020-05-29\n",
      "\n",
      "Getting current rank for ENCE\n",
      "Getting current rank for Vitality\n",
      "Getting current rank for Hard Legion\n",
      "Getting current rank for Syman\n",
      "Getting current rank for pro100\n",
      "Getting current rank for Virtus.pro\n",
      "Getting current rank for Espada\n",
      "Getting current rank for fnatic\n",
      "Getting current rank for FaZe\n",
      "Getting current rank for mousesports\n",
      "Getting current rank for OG\n",
      "Getting current rank for Astralis\n",
      "Getting current rank for Complexity\n",
      "Getting current rank for forZe\n",
      "Getting current rank for BIG\n",
      "Getting current rank for North\n",
      "Getting current rank for G2\n",
      "Getting current rank for Liquid\n",
      "Getting current rank for NiP\n"
     ]
    }
   ],
   "source": [
    "params = [team_id, entered_name, start_date, end_date]\n",
    "results_url = r\"https://www.hltv.org/stats/teams/matches/{}/{}?startDate={}&endDate={}\".format(*params)\n",
    "\n",
    "print(\"\\nRequesting url \\n{}\\n\".format(results_url))\n",
    "source = requests.get(results_url).text\n",
    "soup = BeautifulSoup(source, \"lxml\")\n",
    "\n",
    "# Create empty list that will be filled with dicts containing match results\n",
    "results_list = []\n",
    "# Create a dict that will hold current team ranks\n",
    "current_ranks_dict = {entered_name: team_rnk_now}\n",
    "\n",
    "body = soup.find(\"tbody\")\n",
    "for match in body.findAll(\"tr\"):\n",
    "    date = match.find(\"td\", class_=\"time\").a.text\n",
    "    date = pd.to_datetime(date, format=\"%d/%m/%y\")\n",
    "    \n",
    "    event = match.find(\"td\", class_=\"gtSmartphone-only\").a.text\n",
    "    \n",
    "    opponent_name = match.find(\"td\", class_=None).a.text\n",
    "    \n",
    "    map_name = match.find(\"td\", class_=\"statsMapPlayed\").text\n",
    "\n",
    "    match_result = match.find(\"td\", class_=\"gtSmartphone-only text-center\").text.split()\n",
    "    team_score = int(match_result[0])\n",
    "    opponent_score = int(match_result[2])\n",
    "    \n",
    "    if team_score > opponent_score:\n",
    "        outcome = \"W\"\n",
    "    elif team_score < opponent_score:\n",
    "        outcome = \"L\"\n",
    "    elif team_score == opponent_score:\n",
    "        outcome = \"D\"\n",
    "    else:\n",
    "        outcome = None\n",
    "        \n",
    "    # Get current ranking of opponent team if not already done\n",
    "    if opponent_name in current_ranks_dict:\n",
    "        opponent_rnk_now = current_ranks_dict[opponent_name]\n",
    "    else:\n",
    "        opponent_rnk_now = current_rank(opponent_name)\n",
    "        current_ranks_dict[opponent_name] = opponent_rnk_now\n",
    "        \n",
    "    # Get rankings at the time of the match\n",
    "    #######\n",
    "    # Note:\n",
    "    # Rankings are always reassessed on mondays so I have to find the monday prior to the match date\n",
    "    # I think for now I just have to assign a rank if the team is top30 and otherwise assign e.g. 100\n",
    "    # In the long run I could scan all the regional ratings, get the points for each team and create a list\n",
    "    # including all teams that are top30 in any given region. That's apparently what this website does:\n",
    "    # https://hltvranking.y0fl0w.de/ (see information thing at the top)\n",
    "    #######\n",
    "    \n",
    "    # Create a dict with all the relevant information\n",
    "    match_results_dict = {\n",
    "        \"Date\": date,\n",
    "        \"Event\": event,\n",
    "        \"Team_Name\": entered_name,\n",
    "        \"Outcome\": outcome,\n",
    "        \"Opponent_Name\": opponent_name,\n",
    "        \"Team_Score\": team_score,\n",
    "        \"Opponent_Score\": opponent_score,\n",
    "        \"Map\": map_name,\n",
    "        \"Team_rnk_now\": team_rnk_now,\n",
    "        \"Opponent_rnk_now\": opponent_rnk_now\n",
    "    }\n",
    "    # Append dict to list of results\n",
    "    results_list.append(match_results_dict)"
   ]
  },
  {
   "cell_type": "code",
   "execution_count": 6,
   "metadata": {},
   "outputs": [
    {
     "name": "stdout",
     "output_type": "stream",
     "text": [
      "\n",
      "File saved at: \n",
      "C:\\Users\\noser\\Documents\\Python\\CSGO_webscraping\\data\\natus-vincere_2020-02-19_2020-05-29.csv\n"
     ]
    }
   ],
   "source": [
    "# Create dataframe from list of dicts\n",
    "df = pd.DataFrame(results_list)\n",
    "\n",
    "# Save df as csv file\n",
    "save_name = \"-\".join(entered_name.lower().split())\n",
    "filename = \"{}_{}_{}.csv\".format(save_name, start_date, end_date)\n",
    "save_file = Path(r\"../data/{}\".format(filename)).resolve()\n",
    "df.to_csv(save_file, index=False)\n",
    "print(\"\\nFile saved at: \\n{}\".format(save_file))"
   ]
  }
 ],
 "metadata": {
  "kernelspec": {
   "display_name": "webscraping",
   "language": "python",
   "name": "webscraping"
  },
  "language_info": {
   "codemirror_mode": {
    "name": "ipython",
    "version": 3
   },
   "file_extension": ".py",
   "mimetype": "text/x-python",
   "name": "python",
   "nbconvert_exporter": "python",
   "pygments_lexer": "ipython3",
   "version": "3.8.3"
  }
 },
 "nbformat": 4,
 "nbformat_minor": 4
}
